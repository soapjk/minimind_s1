{
 "cells": [
  {
   "cell_type": "code",
   "execution_count": 1,
   "metadata": {},
   "outputs": [
    {
     "name": "stdout",
     "output_type": "stream",
     "text": [
      "tensor([11,  4,  8,  4,  6,  8, 10,  9,  1,  2, 10,  4,  9,  7,  9, 13,  6,  1,\n",
      "         3,  6,  7,  1,  7, 10,  5, 10,  5,  5,  9,  6, 12,  0,  0,  0,  0,  0,\n",
      "         0,  0,  0,  0,  0,  0,  0,  0,  0,  0,  0,  0,  0,  0]) tensor([11,  1, 10,  9,  8,  3,  5,  2,  6,  1,  7,  1, 10,  5,  7,  5, 12,  0,\n",
      "         0,  0,  0,  0,  0,  0,  0,  0,  0,  0,  0,  0,  0,  0,  0,  0,  0,  0,\n",
      "         0,  0,  0,  0,  0,  0,  0,  0,  0,  0,  0,  0,  0,  0,  0]) \n",
      "\n",
      "('<SOS>48468091204979+61367170505596<EOS><PAD><PAD><PAD><PAD><PAD><PAD><PAD><PAD><PAD><PAD><PAD><PAD><PAD><PAD><PAD><PAD><PAD><PAD><PAD>', '<SOS>109835261710575<EOS><PAD><PAD><PAD><PAD><PAD><PAD><PAD><PAD><PAD><PAD><PAD><PAD><PAD><PAD><PAD><PAD><PAD><PAD><PAD><PAD><PAD><PAD><PAD><PAD><PAD><PAD><PAD><PAD><PAD><PAD><PAD><PAD><PAD><PAD>')\n"
     ]
    }
   ],
   "source": [
    "import random\n",
    "\n",
    "import numpy as np\n",
    "import torch\n",
    "from torch.utils.data import Dataset,DataLoader\n",
    "from torch import nn \n",
    "import torch.nn.functional as F\n",
    "import copy \n",
    "import math \n",
    "import numpy as np\n",
    "import pandas as pd\n",
    "\n",
    "# 定义字典\n",
    "words_x = '<PAD>,1,2,3,4,5,6,7,8,9,0,<SOS>,<EOS>,+'\n",
    "vocab_x = {word: i for i, word in enumerate(words_x.split(','))}\n",
    "vocab_xr = [k for k, v in vocab_x.items()] #反查词典\n",
    "\n",
    "words_y = '<PAD>,1,2,3,4,5,6,7,8,9,0,<SOS>,<EOS>'\n",
    "vocab_y = {word: i for i, word in enumerate(words_y.split(','))}\n",
    "vocab_yr = [k for k, v in vocab_y.items()] #反查词典\n",
    "\n",
    "\n",
    "#两数相加数据集\n",
    "def get_data():\n",
    "    # 定义词集合\n",
    "    words = ['0', '1', '2', '3', '4', '5', '6', '7', '8', '9']\n",
    "\n",
    "    # 每个词被选中的概率\n",
    "    p = np.array([7, 5, 5, 7, 6, 5, 7, 6, 5, 7])\n",
    "    p = p / p.sum()\n",
    "\n",
    "    # 随机采样n1个词作为s1\n",
    "    n1 = random.randint(10, 20)\n",
    "    s1 = np.random.choice(words, size=n1, replace=True, p=p)\n",
    "    s1 = s1.tolist()\n",
    "\n",
    "    # 随机采样n2个词作为s2\n",
    "    n2 = random.randint(10, 20)\n",
    "    s2 = np.random.choice(words, size=n2, replace=True, p=p)\n",
    "    s2 = s2.tolist()\n",
    "\n",
    "    # x等于s1和s2字符上的相加\n",
    "    x = s1 + ['+'] + s2\n",
    "    \n",
    "    # y等于s1和s2数值上的相加\n",
    "    y = int(''.join(s1)) + int(''.join(s2))\n",
    "    y = list(str(y))\n",
    "    \n",
    "    # 加上首尾符号\n",
    "    x = ['<SOS>'] + x + ['<EOS>']\n",
    "    y = ['<SOS>'] + y + ['<EOS>']\n",
    "\n",
    "    # 补pad到固定长度\n",
    "    x = x + ['<PAD>'] * 50\n",
    "    y = y + ['<PAD>'] * 51\n",
    "    x = x[:50]\n",
    "    y = y[:51]\n",
    "\n",
    "    # 编码成token\n",
    "    token_x = [vocab_x[i] for i in x]\n",
    "    token_y = [vocab_y[i] for i in y]\n",
    "\n",
    "    # 转tensor\n",
    "    tensor_x = torch.LongTensor(token_x)\n",
    "    tensor_y = torch.LongTensor(token_y)\n",
    "    return tensor_x, tensor_y\n",
    "\n",
    "\n",
    "def show_data(tensor_x,tensor_y) ->\"str\":\n",
    "    words_x = \"\".join([vocab_xr[i] for i in tensor_x.tolist()])\n",
    "    words_y = \"\".join([vocab_yr[i] for i in tensor_y.tolist()])\n",
    "    return words_x,words_y\n",
    "\n",
    "\n",
    "x,y = get_data() \n",
    "print(x,y,\"\\n\")\n",
    "print(show_data(x,y))"
   ]
  },
  {
   "cell_type": "code",
   "execution_count": 2,
   "metadata": {},
   "outputs": [
    {
     "data": {
      "text/plain": [
       "{'<PAD>': 0,\n",
       " '1': 1,\n",
       " '2': 2,\n",
       " '3': 3,\n",
       " '4': 4,\n",
       " '5': 5,\n",
       " '6': 6,\n",
       " '7': 7,\n",
       " '8': 8,\n",
       " '9': 9,\n",
       " '0': 10,\n",
       " '<SOS>': 11,\n",
       " '<EOS>': 12}"
      ]
     },
     "execution_count": 2,
     "metadata": {},
     "output_type": "execute_result"
    }
   ],
   "source": [
    "vocab_y"
   ]
  },
  {
   "cell_type": "code",
   "execution_count": 3,
   "metadata": {},
   "outputs": [
    {
     "name": "stdout",
     "output_type": "stream",
     "text": [
      "torch.Size([200, 50])\n",
      "torch.Size([200, 51])\n"
     ]
    }
   ],
   "source": [
    "# 定义数据集\n",
    "class TwoSumDataset(torch.utils.data.Dataset):\n",
    "    def __init__(self,size = 100000):\n",
    "        super(Dataset, self).__init__()\n",
    "        self.size = size\n",
    "\n",
    "    def __len__(self):\n",
    "        return self.size\n",
    "\n",
    "    def __getitem__(self, i):\n",
    "        return get_data()\n",
    "    \n",
    "ds_train = TwoSumDataset(size = 100000)\n",
    "ds_val = TwoSumDataset(size = 10000)\n",
    "\n",
    "\n",
    "# 数据加载器\n",
    "dl_train = DataLoader(dataset=ds_train,\n",
    "         batch_size=200,\n",
    "         drop_last=True,\n",
    "         shuffle=True)\n",
    "\n",
    "dl_val = DataLoader(dataset=ds_val,\n",
    "         batch_size=200,\n",
    "         drop_last=True,\n",
    "         shuffle=False)\n",
    "\n",
    "\n",
    "for src,tgt in dl_train:\n",
    "    print(src.shape)\n",
    "    print(tgt.shape)\n",
    "    break"
   ]
  },
  {
   "cell_type": "code",
   "execution_count": null,
   "metadata": {},
   "outputs": [
    {
     "data": {
      "application/vnd.plotly.v1+json": {
       "config": {
        "plotlyServerURL": "https://plot.ly"
       },
       "data": [
        {
         "coloraxis": "coloraxis",
         "hovertemplate": "x: %{x}<br>y: %{y}<br>color: %{z}<extra></extra>",
         "name": "0",
         "type": "heatmap",
         "xaxis": "x",
         "yaxis": "y",
         "z": {
          "bdata": "/wAAAAAAAAAAAP//AAAAAAAAAAD///8AAAAAAAAA/////wAAAAAAAP//////AAAAAAD///////8AAAAA/////////wAAAP//////////AAD///////////8A/////////////w==",
          "dtype": "u1",
          "shape": "10, 10"
         }
        }
       ],
       "layout": {
        "coloraxis": {
         "colorscale": [
          [
           0,
           "rgb(247,251,255)"
          ],
          [
           0.125,
           "rgb(222,235,247)"
          ],
          [
           0.25,
           "rgb(198,219,239)"
          ],
          [
           0.375,
           "rgb(158,202,225)"
          ],
          [
           0.5,
           "rgb(107,174,214)"
          ],
          [
           0.625,
           "rgb(66,146,198)"
          ],
          [
           0.75,
           "rgb(33,113,181)"
          ],
          [
           0.875,
           "rgb(8,81,156)"
          ],
          [
           1,
           "rgb(8,48,107)"
          ]
         ]
        },
        "height": 600,
        "margin": {
         "t": 60
        },
        "template": {
         "data": {
          "bar": [
           {
            "error_x": {
             "color": "#2a3f5f"
            },
            "error_y": {
             "color": "#2a3f5f"
            },
            "marker": {
             "line": {
              "color": "#E5ECF6",
              "width": 0.5
             },
             "pattern": {
              "fillmode": "overlay",
              "size": 10,
              "solidity": 0.2
             }
            },
            "type": "bar"
           }
          ],
          "barpolar": [
           {
            "marker": {
             "line": {
              "color": "#E5ECF6",
              "width": 0.5
             },
             "pattern": {
              "fillmode": "overlay",
              "size": 10,
              "solidity": 0.2
             }
            },
            "type": "barpolar"
           }
          ],
          "carpet": [
           {
            "aaxis": {
             "endlinecolor": "#2a3f5f",
             "gridcolor": "white",
             "linecolor": "white",
             "minorgridcolor": "white",
             "startlinecolor": "#2a3f5f"
            },
            "baxis": {
             "endlinecolor": "#2a3f5f",
             "gridcolor": "white",
             "linecolor": "white",
             "minorgridcolor": "white",
             "startlinecolor": "#2a3f5f"
            },
            "type": "carpet"
           }
          ],
          "choropleth": [
           {
            "colorbar": {
             "outlinewidth": 0,
             "ticks": ""
            },
            "type": "choropleth"
           }
          ],
          "contour": [
           {
            "colorbar": {
             "outlinewidth": 0,
             "ticks": ""
            },
            "colorscale": [
             [
              0,
              "#0d0887"
             ],
             [
              0.1111111111111111,
              "#46039f"
             ],
             [
              0.2222222222222222,
              "#7201a8"
             ],
             [
              0.3333333333333333,
              "#9c179e"
             ],
             [
              0.4444444444444444,
              "#bd3786"
             ],
             [
              0.5555555555555556,
              "#d8576b"
             ],
             [
              0.6666666666666666,
              "#ed7953"
             ],
             [
              0.7777777777777778,
              "#fb9f3a"
             ],
             [
              0.8888888888888888,
              "#fdca26"
             ],
             [
              1,
              "#f0f921"
             ]
            ],
            "type": "contour"
           }
          ],
          "contourcarpet": [
           {
            "colorbar": {
             "outlinewidth": 0,
             "ticks": ""
            },
            "type": "contourcarpet"
           }
          ],
          "heatmap": [
           {
            "colorbar": {
             "outlinewidth": 0,
             "ticks": ""
            },
            "colorscale": [
             [
              0,
              "#0d0887"
             ],
             [
              0.1111111111111111,
              "#46039f"
             ],
             [
              0.2222222222222222,
              "#7201a8"
             ],
             [
              0.3333333333333333,
              "#9c179e"
             ],
             [
              0.4444444444444444,
              "#bd3786"
             ],
             [
              0.5555555555555556,
              "#d8576b"
             ],
             [
              0.6666666666666666,
              "#ed7953"
             ],
             [
              0.7777777777777778,
              "#fb9f3a"
             ],
             [
              0.8888888888888888,
              "#fdca26"
             ],
             [
              1,
              "#f0f921"
             ]
            ],
            "type": "heatmap"
           }
          ],
          "histogram": [
           {
            "marker": {
             "pattern": {
              "fillmode": "overlay",
              "size": 10,
              "solidity": 0.2
             }
            },
            "type": "histogram"
           }
          ],
          "histogram2d": [
           {
            "colorbar": {
             "outlinewidth": 0,
             "ticks": ""
            },
            "colorscale": [
             [
              0,
              "#0d0887"
             ],
             [
              0.1111111111111111,
              "#46039f"
             ],
             [
              0.2222222222222222,
              "#7201a8"
             ],
             [
              0.3333333333333333,
              "#9c179e"
             ],
             [
              0.4444444444444444,
              "#bd3786"
             ],
             [
              0.5555555555555556,
              "#d8576b"
             ],
             [
              0.6666666666666666,
              "#ed7953"
             ],
             [
              0.7777777777777778,
              "#fb9f3a"
             ],
             [
              0.8888888888888888,
              "#fdca26"
             ],
             [
              1,
              "#f0f921"
             ]
            ],
            "type": "histogram2d"
           }
          ],
          "histogram2dcontour": [
           {
            "colorbar": {
             "outlinewidth": 0,
             "ticks": ""
            },
            "colorscale": [
             [
              0,
              "#0d0887"
             ],
             [
              0.1111111111111111,
              "#46039f"
             ],
             [
              0.2222222222222222,
              "#7201a8"
             ],
             [
              0.3333333333333333,
              "#9c179e"
             ],
             [
              0.4444444444444444,
              "#bd3786"
             ],
             [
              0.5555555555555556,
              "#d8576b"
             ],
             [
              0.6666666666666666,
              "#ed7953"
             ],
             [
              0.7777777777777778,
              "#fb9f3a"
             ],
             [
              0.8888888888888888,
              "#fdca26"
             ],
             [
              1,
              "#f0f921"
             ]
            ],
            "type": "histogram2dcontour"
           }
          ],
          "mesh3d": [
           {
            "colorbar": {
             "outlinewidth": 0,
             "ticks": ""
            },
            "type": "mesh3d"
           }
          ],
          "parcoords": [
           {
            "line": {
             "colorbar": {
              "outlinewidth": 0,
              "ticks": ""
             }
            },
            "type": "parcoords"
           }
          ],
          "pie": [
           {
            "automargin": true,
            "type": "pie"
           }
          ],
          "scatter": [
           {
            "fillpattern": {
             "fillmode": "overlay",
             "size": 10,
             "solidity": 0.2
            },
            "type": "scatter"
           }
          ],
          "scatter3d": [
           {
            "line": {
             "colorbar": {
              "outlinewidth": 0,
              "ticks": ""
             }
            },
            "marker": {
             "colorbar": {
              "outlinewidth": 0,
              "ticks": ""
             }
            },
            "type": "scatter3d"
           }
          ],
          "scattercarpet": [
           {
            "marker": {
             "colorbar": {
              "outlinewidth": 0,
              "ticks": ""
             }
            },
            "type": "scattercarpet"
           }
          ],
          "scattergeo": [
           {
            "marker": {
             "colorbar": {
              "outlinewidth": 0,
              "ticks": ""
             }
            },
            "type": "scattergeo"
           }
          ],
          "scattergl": [
           {
            "marker": {
             "colorbar": {
              "outlinewidth": 0,
              "ticks": ""
             }
            },
            "type": "scattergl"
           }
          ],
          "scattermap": [
           {
            "marker": {
             "colorbar": {
              "outlinewidth": 0,
              "ticks": ""
             }
            },
            "type": "scattermap"
           }
          ],
          "scattermapbox": [
           {
            "marker": {
             "colorbar": {
              "outlinewidth": 0,
              "ticks": ""
             }
            },
            "type": "scattermapbox"
           }
          ],
          "scatterpolar": [
           {
            "marker": {
             "colorbar": {
              "outlinewidth": 0,
              "ticks": ""
             }
            },
            "type": "scatterpolar"
           }
          ],
          "scatterpolargl": [
           {
            "marker": {
             "colorbar": {
              "outlinewidth": 0,
              "ticks": ""
             }
            },
            "type": "scatterpolargl"
           }
          ],
          "scatterternary": [
           {
            "marker": {
             "colorbar": {
              "outlinewidth": 0,
              "ticks": ""
             }
            },
            "type": "scatterternary"
           }
          ],
          "surface": [
           {
            "colorbar": {
             "outlinewidth": 0,
             "ticks": ""
            },
            "colorscale": [
             [
              0,
              "#0d0887"
             ],
             [
              0.1111111111111111,
              "#46039f"
             ],
             [
              0.2222222222222222,
              "#7201a8"
             ],
             [
              0.3333333333333333,
              "#9c179e"
             ],
             [
              0.4444444444444444,
              "#bd3786"
             ],
             [
              0.5555555555555556,
              "#d8576b"
             ],
             [
              0.6666666666666666,
              "#ed7953"
             ],
             [
              0.7777777777777778,
              "#fb9f3a"
             ],
             [
              0.8888888888888888,
              "#fdca26"
             ],
             [
              1,
              "#f0f921"
             ]
            ],
            "type": "surface"
           }
          ],
          "table": [
           {
            "cells": {
             "fill": {
              "color": "#EBF0F8"
             },
             "line": {
              "color": "white"
             }
            },
            "header": {
             "fill": {
              "color": "#C8D4E3"
             },
             "line": {
              "color": "white"
             }
            },
            "type": "table"
           }
          ]
         },
         "layout": {
          "annotationdefaults": {
           "arrowcolor": "#2a3f5f",
           "arrowhead": 0,
           "arrowwidth": 1
          },
          "autotypenumbers": "strict",
          "coloraxis": {
           "colorbar": {
            "outlinewidth": 0,
            "ticks": ""
           }
          },
          "colorscale": {
           "diverging": [
            [
             0,
             "#8e0152"
            ],
            [
             0.1,
             "#c51b7d"
            ],
            [
             0.2,
             "#de77ae"
            ],
            [
             0.3,
             "#f1b6da"
            ],
            [
             0.4,
             "#fde0ef"
            ],
            [
             0.5,
             "#f7f7f7"
            ],
            [
             0.6,
             "#e6f5d0"
            ],
            [
             0.7,
             "#b8e186"
            ],
            [
             0.8,
             "#7fbc41"
            ],
            [
             0.9,
             "#4d9221"
            ],
            [
             1,
             "#276419"
            ]
           ],
           "sequential": [
            [
             0,
             "#0d0887"
            ],
            [
             0.1111111111111111,
             "#46039f"
            ],
            [
             0.2222222222222222,
             "#7201a8"
            ],
            [
             0.3333333333333333,
             "#9c179e"
            ],
            [
             0.4444444444444444,
             "#bd3786"
            ],
            [
             0.5555555555555556,
             "#d8576b"
            ],
            [
             0.6666666666666666,
             "#ed7953"
            ],
            [
             0.7777777777777778,
             "#fb9f3a"
            ],
            [
             0.8888888888888888,
             "#fdca26"
            ],
            [
             1,
             "#f0f921"
            ]
           ],
           "sequentialminus": [
            [
             0,
             "#0d0887"
            ],
            [
             0.1111111111111111,
             "#46039f"
            ],
            [
             0.2222222222222222,
             "#7201a8"
            ],
            [
             0.3333333333333333,
             "#9c179e"
            ],
            [
             0.4444444444444444,
             "#bd3786"
            ],
            [
             0.5555555555555556,
             "#d8576b"
            ],
            [
             0.6666666666666666,
             "#ed7953"
            ],
            [
             0.7777777777777778,
             "#fb9f3a"
            ],
            [
             0.8888888888888888,
             "#fdca26"
            ],
            [
             1,
             "#f0f921"
            ]
           ]
          },
          "colorway": [
           "#636efa",
           "#EF553B",
           "#00cc96",
           "#ab63fa",
           "#FFA15A",
           "#19d3f3",
           "#FF6692",
           "#B6E880",
           "#FF97FF",
           "#FECB52"
          ],
          "font": {
           "color": "#2a3f5f"
          },
          "geo": {
           "bgcolor": "white",
           "lakecolor": "white",
           "landcolor": "#E5ECF6",
           "showlakes": true,
           "showland": true,
           "subunitcolor": "white"
          },
          "hoverlabel": {
           "align": "left"
          },
          "hovermode": "closest",
          "mapbox": {
           "style": "light"
          },
          "paper_bgcolor": "white",
          "plot_bgcolor": "#E5ECF6",
          "polar": {
           "angularaxis": {
            "gridcolor": "white",
            "linecolor": "white",
            "ticks": ""
           },
           "bgcolor": "#E5ECF6",
           "radialaxis": {
            "gridcolor": "white",
            "linecolor": "white",
            "ticks": ""
           }
          },
          "scene": {
           "xaxis": {
            "backgroundcolor": "#E5ECF6",
            "gridcolor": "white",
            "gridwidth": 2,
            "linecolor": "white",
            "showbackground": true,
            "ticks": "",
            "zerolinecolor": "white"
           },
           "yaxis": {
            "backgroundcolor": "#E5ECF6",
            "gridcolor": "white",
            "gridwidth": 2,
            "linecolor": "white",
            "showbackground": true,
            "ticks": "",
            "zerolinecolor": "white"
           },
           "zaxis": {
            "backgroundcolor": "#E5ECF6",
            "gridcolor": "white",
            "gridwidth": 2,
            "linecolor": "white",
            "showbackground": true,
            "ticks": "",
            "zerolinecolor": "white"
           }
          },
          "shapedefaults": {
           "line": {
            "color": "#2a3f5f"
           }
          },
          "ternary": {
           "aaxis": {
            "gridcolor": "white",
            "linecolor": "white",
            "ticks": ""
           },
           "baxis": {
            "gridcolor": "white",
            "linecolor": "white",
            "ticks": ""
           },
           "bgcolor": "#E5ECF6",
           "caxis": {
            "gridcolor": "white",
            "linecolor": "white",
            "ticks": ""
           }
          },
          "title": {
           "x": 0.05
          },
          "xaxis": {
           "automargin": true,
           "gridcolor": "white",
           "linecolor": "white",
           "ticks": "",
           "title": {
            "standoff": 15
           },
           "zerolinecolor": "white",
           "zerolinewidth": 2
          },
          "yaxis": {
           "automargin": true,
           "gridcolor": "white",
           "linecolor": "white",
           "ticks": "",
           "title": {
            "standoff": 15
           },
           "zerolinecolor": "white",
           "zerolinewidth": 2
          }
         }
        },
        "width": 600,
        "xaxis": {
         "anchor": "y",
         "constrain": "domain",
         "domain": [
          0,
          1
         ],
         "scaleanchor": "y"
        },
        "yaxis": {
         "anchor": "x",
         "autorange": "reversed",
         "constrain": "domain",
         "domain": [
          0,
          1
         ]
        }
       }
      }
     },
     "metadata": {},
     "output_type": "display_data"
    }
   ],
   "source": [
    "\n",
    "\n",
    "def clones(module, N):\n",
    "    \"Produce N identical layers.\"\n",
    "    return nn.ModuleList([copy.deepcopy(module) for _ in range(N)])\n",
    "\n",
    "\n",
    "class ScaledDotProductAttention(nn.Module):\n",
    "    \"Compute 'Scaled Dot Product Attention'\"\n",
    "    def __init__(self):\n",
    "        super(ScaledDotProductAttention, self).__init__()\n",
    "\n",
    "    def forward(self,query, key, value, mask=None, dropout=None):\n",
    "        d_k = query.size(-1)\n",
    "        scores = query@key.transpose(-2,-1) / math.sqrt(d_k)     \n",
    "        print(\"q,k,v shape\",query.shape,key.shape,value.shape)\n",
    "        if mask is not None:\n",
    "            print(\"scores shape,mask shape\",scores.shape,mask.shape)\n",
    "            scores = scores.masked_fill(mask == 0, -1e20)\n",
    "        p_attn = F.softmax(scores, dim = -1)\n",
    "        print(\"p_attn.shape\",p_attn.shape)\n",
    "        if dropout is not None:\n",
    "            p_attn = dropout(p_attn)\n",
    "        return p_attn@value, p_attn\n",
    "\n",
    "class MultiHeadAttention(nn.Module):\n",
    "    def __init__(self, h, d_model, dropout=0.1):\n",
    "        \"Take in model size and number of heads.\"\n",
    "        super(MultiHeadAttention, self).__init__()\n",
    "        assert d_model % h == 0 # 保证h能整除输入tensor的向量维度\n",
    "        # We assume d_v always equals d_k\n",
    "        self.d_k = d_model // h # 每个头的向量维度\n",
    "        self.h = h\n",
    "        self.linears = clones(nn.Linear(d_model, d_model), 4)\n",
    "        self.attn = None #记录 attention矩阵结果\n",
    "        self.dropout = nn.Dropout(p=dropout)\n",
    "        self.attention = ScaledDotProductAttention()\n",
    "        \n",
    "    def forward(self, query, key, value, mask=None):\n",
    "        if mask is not None:\n",
    "            # Same mask applied to all h heads.\n",
    "            mask = mask.unsqueeze(1)\n",
    "        nbatches = query.size(0)\n",
    "        \n",
    "        # 1) Do all the linear projections in batch from d_model => h x d_k \n",
    "        query =  self.linears[0](query).view(nbatches, -1, self.h, self.d_k).transpose(1, 2)\n",
    "        key =  self.linears[1](key).view(nbatches, -1, self.h, self.d_k).transpose(1, 2)\n",
    "        value  =  self.linears[2](value).view(nbatches, -1, self.h, self.d_k).transpose(1, 2)\n",
    "        # query, key, value = [\n",
    "        #     l(x).view(nbatches, -1, self.h, self.d_k).transpose(1, 2)\n",
    "        #      for l, x in zip(self.linears, (query, key, value))\n",
    "        # ]\n",
    "        \n",
    "        # 2) Apply attention on all the projected vectors in batch. \n",
    "        x, self.attn = self.attention(query, key, value, mask=mask, \n",
    "                                 dropout=self.dropout)\n",
    "        \n",
    "        # 3) \"Concat\" using a view and apply a final linear. \n",
    "        x = x.transpose(1, 2).contiguous() \\\n",
    "             .view(nbatches, -1, self.h * self.d_k)\n",
    "        return self.linears[-1](x)\n",
    "\n",
    "\n",
    "#为了让训练过程与解码过程信息流一致，遮挡tgt序列后面元素，设置其注意力为0\n",
    "def tril_mask(data):\n",
    "    \"Mask out future positions.\"\n",
    "    size = data.size(-1) #size为序列长度\n",
    "    full = torch.full((1,size,size),1,dtype=torch.int,device=data.device)\n",
    "    mask = torch.tril(full).bool() \n",
    "    return mask\n",
    "\n",
    "\n",
    "#设置对<PAD>的注意力为0\n",
    "def pad_mask(data, pad=0):\n",
    "    \"Mask out pad positions.\"\n",
    "    mask = (data!=pad).unsqueeze(-2)\n",
    "    return mask \n",
    "\n",
    "\n",
    "#计算一个batch数据的src_mask和tgt_mask\n",
    "class MaskedBatch:\n",
    "    \"Object for holding a batch of data with mask during training.\"\n",
    "    def __init__(self, src, tgt=None, pad=0):\n",
    "        self. = \n",
    "        self.src_mask = pad_mask(,pad)\n",
    "        if tgt is not None:\n",
    "            self.tgt = tgt[:,:-1] #训练时,拿tgt的每一个词输入,去预测下一个词,所以最后一个词无需输入\n",
    "            self.tgt_y = tgt[:, 1:] #第一个总是<SOS>无需预测，预测从第二个词开始\n",
    "            self.tgt_mask = \\\n",
    "                self.make_tgt_mask(self.tgt, pad)\n",
    "            self.ntokens = (self.tgt_y!= pad).sum() \n",
    "    \n",
    "    @staticmethod\n",
    "    def make_tgt_mask(tgt, pad):\n",
    "        \"Create a mask to hide padding and future words.\"\n",
    "        tgt_pad_mask = pad_mask(tgt,pad)\n",
    "        tgt_tril_mask = tril_mask(tgt)\n",
    "        tgt_mask = tgt_pad_mask & (tgt_tril_mask)\n",
    "        return tgt_mask\n",
    "    \n",
    "\n",
    "import plotly.express as px \n",
    "# 测试tril_mask \n",
    "mask = tril_mask(torch.zeros(1,10)) #序列长度为10\n",
    "#sns.heatmap(mask[0],cmap=sns.cm.rocket);\n",
    "px.imshow(mask[0],color_continuous_scale=\"blues\",height=600,width=600)"
   ]
  },
  {
   "cell_type": "code",
   "execution_count": 5,
   "metadata": {},
   "outputs": [
    {
     "name": "stdout",
     "output_type": "stream",
     "text": [
      "torch.Size([1, 5, 2])\n",
      "q,k,v shape torch.Size([1, 5, 2]) torch.Size([1, 5, 2]) torch.Size([1, 5, 2])\n",
      "p_attn.shape torch.Size([1, 5, 5])\n"
     ]
    },
    {
     "data": {
      "application/vnd.plotly.v1+json": {
       "config": {
        "plotlyServerURL": "https://plot.ly"
       },
       "data": [
        {
         "coloraxis": "coloraxis",
         "hovertemplate": "x: %{x}<br>y: %{y}<br>color: %{z}<extra></extra>",
         "name": "0",
         "type": "heatmap",
         "xaxis": "x",
         "yaxis": "y",
         "z": {
          "bdata": "z9vAPvWguz21+X4+tfl+PgQSCj31oLs9z9vAPrX5fj4EEgo9tfl+Pmr7cD5q+3A+KVq2PtxUsT3cVLE9StWkPg+EMj1wl/I9v3X5Povp6zwPhDI9StWkPnCX8j2L6es8v3X5Pg==",
          "dtype": "f4",
          "shape": "5, 5"
         }
        }
       ],
       "layout": {
        "coloraxis": {
         "colorscale": [
          [
           0,
           "rgb(247,251,255)"
          ],
          [
           0.125,
           "rgb(222,235,247)"
          ],
          [
           0.25,
           "rgb(198,219,239)"
          ],
          [
           0.375,
           "rgb(158,202,225)"
          ],
          [
           0.5,
           "rgb(107,174,214)"
          ],
          [
           0.625,
           "rgb(66,146,198)"
          ],
          [
           0.75,
           "rgb(33,113,181)"
          ],
          [
           0.875,
           "rgb(8,81,156)"
          ],
          [
           1,
           "rgb(8,48,107)"
          ]
         ]
        },
        "height": 600,
        "template": {
         "data": {
          "bar": [
           {
            "error_x": {
             "color": "#2a3f5f"
            },
            "error_y": {
             "color": "#2a3f5f"
            },
            "marker": {
             "line": {
              "color": "#E5ECF6",
              "width": 0.5
             },
             "pattern": {
              "fillmode": "overlay",
              "size": 10,
              "solidity": 0.2
             }
            },
            "type": "bar"
           }
          ],
          "barpolar": [
           {
            "marker": {
             "line": {
              "color": "#E5ECF6",
              "width": 0.5
             },
             "pattern": {
              "fillmode": "overlay",
              "size": 10,
              "solidity": 0.2
             }
            },
            "type": "barpolar"
           }
          ],
          "carpet": [
           {
            "aaxis": {
             "endlinecolor": "#2a3f5f",
             "gridcolor": "white",
             "linecolor": "white",
             "minorgridcolor": "white",
             "startlinecolor": "#2a3f5f"
            },
            "baxis": {
             "endlinecolor": "#2a3f5f",
             "gridcolor": "white",
             "linecolor": "white",
             "minorgridcolor": "white",
             "startlinecolor": "#2a3f5f"
            },
            "type": "carpet"
           }
          ],
          "choropleth": [
           {
            "colorbar": {
             "outlinewidth": 0,
             "ticks": ""
            },
            "type": "choropleth"
           }
          ],
          "contour": [
           {
            "colorbar": {
             "outlinewidth": 0,
             "ticks": ""
            },
            "colorscale": [
             [
              0,
              "#0d0887"
             ],
             [
              0.1111111111111111,
              "#46039f"
             ],
             [
              0.2222222222222222,
              "#7201a8"
             ],
             [
              0.3333333333333333,
              "#9c179e"
             ],
             [
              0.4444444444444444,
              "#bd3786"
             ],
             [
              0.5555555555555556,
              "#d8576b"
             ],
             [
              0.6666666666666666,
              "#ed7953"
             ],
             [
              0.7777777777777778,
              "#fb9f3a"
             ],
             [
              0.8888888888888888,
              "#fdca26"
             ],
             [
              1,
              "#f0f921"
             ]
            ],
            "type": "contour"
           }
          ],
          "contourcarpet": [
           {
            "colorbar": {
             "outlinewidth": 0,
             "ticks": ""
            },
            "type": "contourcarpet"
           }
          ],
          "heatmap": [
           {
            "colorbar": {
             "outlinewidth": 0,
             "ticks": ""
            },
            "colorscale": [
             [
              0,
              "#0d0887"
             ],
             [
              0.1111111111111111,
              "#46039f"
             ],
             [
              0.2222222222222222,
              "#7201a8"
             ],
             [
              0.3333333333333333,
              "#9c179e"
             ],
             [
              0.4444444444444444,
              "#bd3786"
             ],
             [
              0.5555555555555556,
              "#d8576b"
             ],
             [
              0.6666666666666666,
              "#ed7953"
             ],
             [
              0.7777777777777778,
              "#fb9f3a"
             ],
             [
              0.8888888888888888,
              "#fdca26"
             ],
             [
              1,
              "#f0f921"
             ]
            ],
            "type": "heatmap"
           }
          ],
          "histogram": [
           {
            "marker": {
             "pattern": {
              "fillmode": "overlay",
              "size": 10,
              "solidity": 0.2
             }
            },
            "type": "histogram"
           }
          ],
          "histogram2d": [
           {
            "colorbar": {
             "outlinewidth": 0,
             "ticks": ""
            },
            "colorscale": [
             [
              0,
              "#0d0887"
             ],
             [
              0.1111111111111111,
              "#46039f"
             ],
             [
              0.2222222222222222,
              "#7201a8"
             ],
             [
              0.3333333333333333,
              "#9c179e"
             ],
             [
              0.4444444444444444,
              "#bd3786"
             ],
             [
              0.5555555555555556,
              "#d8576b"
             ],
             [
              0.6666666666666666,
              "#ed7953"
             ],
             [
              0.7777777777777778,
              "#fb9f3a"
             ],
             [
              0.8888888888888888,
              "#fdca26"
             ],
             [
              1,
              "#f0f921"
             ]
            ],
            "type": "histogram2d"
           }
          ],
          "histogram2dcontour": [
           {
            "colorbar": {
             "outlinewidth": 0,
             "ticks": ""
            },
            "colorscale": [
             [
              0,
              "#0d0887"
             ],
             [
              0.1111111111111111,
              "#46039f"
             ],
             [
              0.2222222222222222,
              "#7201a8"
             ],
             [
              0.3333333333333333,
              "#9c179e"
             ],
             [
              0.4444444444444444,
              "#bd3786"
             ],
             [
              0.5555555555555556,
              "#d8576b"
             ],
             [
              0.6666666666666666,
              "#ed7953"
             ],
             [
              0.7777777777777778,
              "#fb9f3a"
             ],
             [
              0.8888888888888888,
              "#fdca26"
             ],
             [
              1,
              "#f0f921"
             ]
            ],
            "type": "histogram2dcontour"
           }
          ],
          "mesh3d": [
           {
            "colorbar": {
             "outlinewidth": 0,
             "ticks": ""
            },
            "type": "mesh3d"
           }
          ],
          "parcoords": [
           {
            "line": {
             "colorbar": {
              "outlinewidth": 0,
              "ticks": ""
             }
            },
            "type": "parcoords"
           }
          ],
          "pie": [
           {
            "automargin": true,
            "type": "pie"
           }
          ],
          "scatter": [
           {
            "fillpattern": {
             "fillmode": "overlay",
             "size": 10,
             "solidity": 0.2
            },
            "type": "scatter"
           }
          ],
          "scatter3d": [
           {
            "line": {
             "colorbar": {
              "outlinewidth": 0,
              "ticks": ""
             }
            },
            "marker": {
             "colorbar": {
              "outlinewidth": 0,
              "ticks": ""
             }
            },
            "type": "scatter3d"
           }
          ],
          "scattercarpet": [
           {
            "marker": {
             "colorbar": {
              "outlinewidth": 0,
              "ticks": ""
             }
            },
            "type": "scattercarpet"
           }
          ],
          "scattergeo": [
           {
            "marker": {
             "colorbar": {
              "outlinewidth": 0,
              "ticks": ""
             }
            },
            "type": "scattergeo"
           }
          ],
          "scattergl": [
           {
            "marker": {
             "colorbar": {
              "outlinewidth": 0,
              "ticks": ""
             }
            },
            "type": "scattergl"
           }
          ],
          "scattermap": [
           {
            "marker": {
             "colorbar": {
              "outlinewidth": 0,
              "ticks": ""
             }
            },
            "type": "scattermap"
           }
          ],
          "scattermapbox": [
           {
            "marker": {
             "colorbar": {
              "outlinewidth": 0,
              "ticks": ""
             }
            },
            "type": "scattermapbox"
           }
          ],
          "scatterpolar": [
           {
            "marker": {
             "colorbar": {
              "outlinewidth": 0,
              "ticks": ""
             }
            },
            "type": "scatterpolar"
           }
          ],
          "scatterpolargl": [
           {
            "marker": {
             "colorbar": {
              "outlinewidth": 0,
              "ticks": ""
             }
            },
            "type": "scatterpolargl"
           }
          ],
          "scatterternary": [
           {
            "marker": {
             "colorbar": {
              "outlinewidth": 0,
              "ticks": ""
             }
            },
            "type": "scatterternary"
           }
          ],
          "surface": [
           {
            "colorbar": {
             "outlinewidth": 0,
             "ticks": ""
            },
            "colorscale": [
             [
              0,
              "#0d0887"
             ],
             [
              0.1111111111111111,
              "#46039f"
             ],
             [
              0.2222222222222222,
              "#7201a8"
             ],
             [
              0.3333333333333333,
              "#9c179e"
             ],
             [
              0.4444444444444444,
              "#bd3786"
             ],
             [
              0.5555555555555556,
              "#d8576b"
             ],
             [
              0.6666666666666666,
              "#ed7953"
             ],
             [
              0.7777777777777778,
              "#fb9f3a"
             ],
             [
              0.8888888888888888,
              "#fdca26"
             ],
             [
              1,
              "#f0f921"
             ]
            ],
            "type": "surface"
           }
          ],
          "table": [
           {
            "cells": {
             "fill": {
              "color": "#EBF0F8"
             },
             "line": {
              "color": "white"
             }
            },
            "header": {
             "fill": {
              "color": "#C8D4E3"
             },
             "line": {
              "color": "white"
             }
            },
            "type": "table"
           }
          ]
         },
         "layout": {
          "annotationdefaults": {
           "arrowcolor": "#2a3f5f",
           "arrowhead": 0,
           "arrowwidth": 1
          },
          "autotypenumbers": "strict",
          "coloraxis": {
           "colorbar": {
            "outlinewidth": 0,
            "ticks": ""
           }
          },
          "colorscale": {
           "diverging": [
            [
             0,
             "#8e0152"
            ],
            [
             0.1,
             "#c51b7d"
            ],
            [
             0.2,
             "#de77ae"
            ],
            [
             0.3,
             "#f1b6da"
            ],
            [
             0.4,
             "#fde0ef"
            ],
            [
             0.5,
             "#f7f7f7"
            ],
            [
             0.6,
             "#e6f5d0"
            ],
            [
             0.7,
             "#b8e186"
            ],
            [
             0.8,
             "#7fbc41"
            ],
            [
             0.9,
             "#4d9221"
            ],
            [
             1,
             "#276419"
            ]
           ],
           "sequential": [
            [
             0,
             "#0d0887"
            ],
            [
             0.1111111111111111,
             "#46039f"
            ],
            [
             0.2222222222222222,
             "#7201a8"
            ],
            [
             0.3333333333333333,
             "#9c179e"
            ],
            [
             0.4444444444444444,
             "#bd3786"
            ],
            [
             0.5555555555555556,
             "#d8576b"
            ],
            [
             0.6666666666666666,
             "#ed7953"
            ],
            [
             0.7777777777777778,
             "#fb9f3a"
            ],
            [
             0.8888888888888888,
             "#fdca26"
            ],
            [
             1,
             "#f0f921"
            ]
           ],
           "sequentialminus": [
            [
             0,
             "#0d0887"
            ],
            [
             0.1111111111111111,
             "#46039f"
            ],
            [
             0.2222222222222222,
             "#7201a8"
            ],
            [
             0.3333333333333333,
             "#9c179e"
            ],
            [
             0.4444444444444444,
             "#bd3786"
            ],
            [
             0.5555555555555556,
             "#d8576b"
            ],
            [
             0.6666666666666666,
             "#ed7953"
            ],
            [
             0.7777777777777778,
             "#fb9f3a"
            ],
            [
             0.8888888888888888,
             "#fdca26"
            ],
            [
             1,
             "#f0f921"
            ]
           ]
          },
          "colorway": [
           "#636efa",
           "#EF553B",
           "#00cc96",
           "#ab63fa",
           "#FFA15A",
           "#19d3f3",
           "#FF6692",
           "#B6E880",
           "#FF97FF",
           "#FECB52"
          ],
          "font": {
           "color": "#2a3f5f"
          },
          "geo": {
           "bgcolor": "white",
           "lakecolor": "white",
           "landcolor": "#E5ECF6",
           "showlakes": true,
           "showland": true,
           "subunitcolor": "white"
          },
          "hoverlabel": {
           "align": "left"
          },
          "hovermode": "closest",
          "mapbox": {
           "style": "light"
          },
          "paper_bgcolor": "white",
          "plot_bgcolor": "#E5ECF6",
          "polar": {
           "angularaxis": {
            "gridcolor": "white",
            "linecolor": "white",
            "ticks": ""
           },
           "bgcolor": "#E5ECF6",
           "radialaxis": {
            "gridcolor": "white",
            "linecolor": "white",
            "ticks": ""
           }
          },
          "scene": {
           "xaxis": {
            "backgroundcolor": "#E5ECF6",
            "gridcolor": "white",
            "gridwidth": 2,
            "linecolor": "white",
            "showbackground": true,
            "ticks": "",
            "zerolinecolor": "white"
           },
           "yaxis": {
            "backgroundcolor": "#E5ECF6",
            "gridcolor": "white",
            "gridwidth": 2,
            "linecolor": "white",
            "showbackground": true,
            "ticks": "",
            "zerolinecolor": "white"
           },
           "zaxis": {
            "backgroundcolor": "#E5ECF6",
            "gridcolor": "white",
            "gridwidth": 2,
            "linecolor": "white",
            "showbackground": true,
            "ticks": "",
            "zerolinecolor": "white"
           }
          },
          "shapedefaults": {
           "line": {
            "color": "#2a3f5f"
           }
          },
          "ternary": {
           "aaxis": {
            "gridcolor": "white",
            "linecolor": "white",
            "ticks": ""
           },
           "baxis": {
            "gridcolor": "white",
            "linecolor": "white",
            "ticks": ""
           },
           "bgcolor": "#E5ECF6",
           "caxis": {
            "gridcolor": "white",
            "linecolor": "white",
            "ticks": ""
           }
          },
          "title": {
           "x": 0.05
          },
          "xaxis": {
           "automargin": true,
           "gridcolor": "white",
           "linecolor": "white",
           "ticks": "",
           "title": {
            "standoff": 15
           },
           "zerolinecolor": "white",
           "zerolinewidth": 2
          },
          "yaxis": {
           "automargin": true,
           "gridcolor": "white",
           "linecolor": "white",
           "ticks": "",
           "title": {
            "standoff": 15
           },
           "zerolinecolor": "white",
           "zerolinewidth": 2
          }
         }
        },
        "title": {
         "text": "without mask"
        },
        "width": 600,
        "xaxis": {
         "anchor": "y",
         "constrain": "domain",
         "domain": [
          0,
          1
         ],
         "scaleanchor": "y"
        },
        "yaxis": {
         "anchor": "x",
         "autorange": "reversed",
         "constrain": "domain",
         "domain": [
          0,
          1
         ]
        }
       }
      }
     },
     "metadata": {},
     "output_type": "display_data"
    }
   ],
   "source": [
    "#测试 ScaledDotProductAttention\n",
    "\n",
    "query = torch.tensor([[[0.0,1.414],[1.414,0.0],[1.0,1.0],[-1.0,1.0],[1.0,-1.0]]])\n",
    "print(query.shape)\n",
    "key = query.clone() \n",
    "value = query.clone()\n",
    "\n",
    "attention = ScaledDotProductAttention()\n",
    "\n",
    "#没有mask \n",
    "out,p_att = attention(query, key, value)\n",
    "fig = px.imshow(p_att[0],color_continuous_scale=\"blues\",\n",
    "                title=\"without mask\",height=600,width=600)\n",
    "fig.show()\n"
   ]
  },
  {
   "cell_type": "code",
   "execution_count": 6,
   "metadata": {},
   "outputs": [
    {
     "data": {
      "text/plain": [
       "(tensor([[[False,  True,  True,  True,  True],\n",
       "          [False, False,  True,  True,  True],\n",
       "          [False, False, False,  True,  True],\n",
       "          [False, False, False, False,  True],\n",
       "          [False, False, False, False, False]]]),\n",
       " torch.Size([1, 5, 2]),\n",
       " torch.Size([1, 5, 2]),\n",
       " torch.Size([1, 5, 2]))"
      ]
     },
     "execution_count": 6,
     "metadata": {},
     "output_type": "execute_result"
    }
   ],
   "source": [
    "tril_mask(torch.zeros(3,5))==0,query.shape,key.shape, value.shape"
   ]
  },
  {
   "cell_type": "code",
   "execution_count": 7,
   "metadata": {},
   "outputs": [
    {
     "name": "stdout",
     "output_type": "stream",
     "text": [
      "q,k,v shape torch.Size([1, 5, 2]) torch.Size([1, 5, 2]) torch.Size([1, 5, 2])\n",
      "scores shape,mask shape torch.Size([1, 5, 5]) torch.Size([1, 5, 5])\n",
      "p_attn.shape torch.Size([1, 5, 5])\n"
     ]
    },
    {
     "data": {
      "application/vnd.plotly.v1+json": {
       "config": {
        "plotlyServerURL": "https://plot.ly"
       },
       "data": [
        {
         "coloraxis": "coloraxis",
         "hovertemplate": "x: %{x}<br>y: %{y}<br>color: %{z}<extra></extra>",
         "name": "0",
         "type": "heatmap",
         "xaxis": "x",
         "yaxis": "y",
         "z": {
          "bdata": "AACAPwAAAAAAAAAAAAAAAAAAAAAyVUg+s+pNPwAAAAAAAAAAAAAAADi6kT44upE+j4vcPgAAAAAAAAAAhLipPibPNz3qyPk9rm0APwAAAAAPhDI9StWkPnCX8j2L6es8v3X5Pg==",
          "dtype": "f4",
          "shape": "5, 5"
         }
        }
       ],
       "layout": {
        "coloraxis": {
         "colorscale": [
          [
           0,
           "rgb(247,251,255)"
          ],
          [
           0.125,
           "rgb(222,235,247)"
          ],
          [
           0.25,
           "rgb(198,219,239)"
          ],
          [
           0.375,
           "rgb(158,202,225)"
          ],
          [
           0.5,
           "rgb(107,174,214)"
          ],
          [
           0.625,
           "rgb(66,146,198)"
          ],
          [
           0.75,
           "rgb(33,113,181)"
          ],
          [
           0.875,
           "rgb(8,81,156)"
          ],
          [
           1,
           "rgb(8,48,107)"
          ]
         ]
        },
        "height": 600,
        "template": {
         "data": {
          "bar": [
           {
            "error_x": {
             "color": "#2a3f5f"
            },
            "error_y": {
             "color": "#2a3f5f"
            },
            "marker": {
             "line": {
              "color": "#E5ECF6",
              "width": 0.5
             },
             "pattern": {
              "fillmode": "overlay",
              "size": 10,
              "solidity": 0.2
             }
            },
            "type": "bar"
           }
          ],
          "barpolar": [
           {
            "marker": {
             "line": {
              "color": "#E5ECF6",
              "width": 0.5
             },
             "pattern": {
              "fillmode": "overlay",
              "size": 10,
              "solidity": 0.2
             }
            },
            "type": "barpolar"
           }
          ],
          "carpet": [
           {
            "aaxis": {
             "endlinecolor": "#2a3f5f",
             "gridcolor": "white",
             "linecolor": "white",
             "minorgridcolor": "white",
             "startlinecolor": "#2a3f5f"
            },
            "baxis": {
             "endlinecolor": "#2a3f5f",
             "gridcolor": "white",
             "linecolor": "white",
             "minorgridcolor": "white",
             "startlinecolor": "#2a3f5f"
            },
            "type": "carpet"
           }
          ],
          "choropleth": [
           {
            "colorbar": {
             "outlinewidth": 0,
             "ticks": ""
            },
            "type": "choropleth"
           }
          ],
          "contour": [
           {
            "colorbar": {
             "outlinewidth": 0,
             "ticks": ""
            },
            "colorscale": [
             [
              0,
              "#0d0887"
             ],
             [
              0.1111111111111111,
              "#46039f"
             ],
             [
              0.2222222222222222,
              "#7201a8"
             ],
             [
              0.3333333333333333,
              "#9c179e"
             ],
             [
              0.4444444444444444,
              "#bd3786"
             ],
             [
              0.5555555555555556,
              "#d8576b"
             ],
             [
              0.6666666666666666,
              "#ed7953"
             ],
             [
              0.7777777777777778,
              "#fb9f3a"
             ],
             [
              0.8888888888888888,
              "#fdca26"
             ],
             [
              1,
              "#f0f921"
             ]
            ],
            "type": "contour"
           }
          ],
          "contourcarpet": [
           {
            "colorbar": {
             "outlinewidth": 0,
             "ticks": ""
            },
            "type": "contourcarpet"
           }
          ],
          "heatmap": [
           {
            "colorbar": {
             "outlinewidth": 0,
             "ticks": ""
            },
            "colorscale": [
             [
              0,
              "#0d0887"
             ],
             [
              0.1111111111111111,
              "#46039f"
             ],
             [
              0.2222222222222222,
              "#7201a8"
             ],
             [
              0.3333333333333333,
              "#9c179e"
             ],
             [
              0.4444444444444444,
              "#bd3786"
             ],
             [
              0.5555555555555556,
              "#d8576b"
             ],
             [
              0.6666666666666666,
              "#ed7953"
             ],
             [
              0.7777777777777778,
              "#fb9f3a"
             ],
             [
              0.8888888888888888,
              "#fdca26"
             ],
             [
              1,
              "#f0f921"
             ]
            ],
            "type": "heatmap"
           }
          ],
          "histogram": [
           {
            "marker": {
             "pattern": {
              "fillmode": "overlay",
              "size": 10,
              "solidity": 0.2
             }
            },
            "type": "histogram"
           }
          ],
          "histogram2d": [
           {
            "colorbar": {
             "outlinewidth": 0,
             "ticks": ""
            },
            "colorscale": [
             [
              0,
              "#0d0887"
             ],
             [
              0.1111111111111111,
              "#46039f"
             ],
             [
              0.2222222222222222,
              "#7201a8"
             ],
             [
              0.3333333333333333,
              "#9c179e"
             ],
             [
              0.4444444444444444,
              "#bd3786"
             ],
             [
              0.5555555555555556,
              "#d8576b"
             ],
             [
              0.6666666666666666,
              "#ed7953"
             ],
             [
              0.7777777777777778,
              "#fb9f3a"
             ],
             [
              0.8888888888888888,
              "#fdca26"
             ],
             [
              1,
              "#f0f921"
             ]
            ],
            "type": "histogram2d"
           }
          ],
          "histogram2dcontour": [
           {
            "colorbar": {
             "outlinewidth": 0,
             "ticks": ""
            },
            "colorscale": [
             [
              0,
              "#0d0887"
             ],
             [
              0.1111111111111111,
              "#46039f"
             ],
             [
              0.2222222222222222,
              "#7201a8"
             ],
             [
              0.3333333333333333,
              "#9c179e"
             ],
             [
              0.4444444444444444,
              "#bd3786"
             ],
             [
              0.5555555555555556,
              "#d8576b"
             ],
             [
              0.6666666666666666,
              "#ed7953"
             ],
             [
              0.7777777777777778,
              "#fb9f3a"
             ],
             [
              0.8888888888888888,
              "#fdca26"
             ],
             [
              1,
              "#f0f921"
             ]
            ],
            "type": "histogram2dcontour"
           }
          ],
          "mesh3d": [
           {
            "colorbar": {
             "outlinewidth": 0,
             "ticks": ""
            },
            "type": "mesh3d"
           }
          ],
          "parcoords": [
           {
            "line": {
             "colorbar": {
              "outlinewidth": 0,
              "ticks": ""
             }
            },
            "type": "parcoords"
           }
          ],
          "pie": [
           {
            "automargin": true,
            "type": "pie"
           }
          ],
          "scatter": [
           {
            "fillpattern": {
             "fillmode": "overlay",
             "size": 10,
             "solidity": 0.2
            },
            "type": "scatter"
           }
          ],
          "scatter3d": [
           {
            "line": {
             "colorbar": {
              "outlinewidth": 0,
              "ticks": ""
             }
            },
            "marker": {
             "colorbar": {
              "outlinewidth": 0,
              "ticks": ""
             }
            },
            "type": "scatter3d"
           }
          ],
          "scattercarpet": [
           {
            "marker": {
             "colorbar": {
              "outlinewidth": 0,
              "ticks": ""
             }
            },
            "type": "scattercarpet"
           }
          ],
          "scattergeo": [
           {
            "marker": {
             "colorbar": {
              "outlinewidth": 0,
              "ticks": ""
             }
            },
            "type": "scattergeo"
           }
          ],
          "scattergl": [
           {
            "marker": {
             "colorbar": {
              "outlinewidth": 0,
              "ticks": ""
             }
            },
            "type": "scattergl"
           }
          ],
          "scattermap": [
           {
            "marker": {
             "colorbar": {
              "outlinewidth": 0,
              "ticks": ""
             }
            },
            "type": "scattermap"
           }
          ],
          "scattermapbox": [
           {
            "marker": {
             "colorbar": {
              "outlinewidth": 0,
              "ticks": ""
             }
            },
            "type": "scattermapbox"
           }
          ],
          "scatterpolar": [
           {
            "marker": {
             "colorbar": {
              "outlinewidth": 0,
              "ticks": ""
             }
            },
            "type": "scatterpolar"
           }
          ],
          "scatterpolargl": [
           {
            "marker": {
             "colorbar": {
              "outlinewidth": 0,
              "ticks": ""
             }
            },
            "type": "scatterpolargl"
           }
          ],
          "scatterternary": [
           {
            "marker": {
             "colorbar": {
              "outlinewidth": 0,
              "ticks": ""
             }
            },
            "type": "scatterternary"
           }
          ],
          "surface": [
           {
            "colorbar": {
             "outlinewidth": 0,
             "ticks": ""
            },
            "colorscale": [
             [
              0,
              "#0d0887"
             ],
             [
              0.1111111111111111,
              "#46039f"
             ],
             [
              0.2222222222222222,
              "#7201a8"
             ],
             [
              0.3333333333333333,
              "#9c179e"
             ],
             [
              0.4444444444444444,
              "#bd3786"
             ],
             [
              0.5555555555555556,
              "#d8576b"
             ],
             [
              0.6666666666666666,
              "#ed7953"
             ],
             [
              0.7777777777777778,
              "#fb9f3a"
             ],
             [
              0.8888888888888888,
              "#fdca26"
             ],
             [
              1,
              "#f0f921"
             ]
            ],
            "type": "surface"
           }
          ],
          "table": [
           {
            "cells": {
             "fill": {
              "color": "#EBF0F8"
             },
             "line": {
              "color": "white"
             }
            },
            "header": {
             "fill": {
              "color": "#C8D4E3"
             },
             "line": {
              "color": "white"
             }
            },
            "type": "table"
           }
          ]
         },
         "layout": {
          "annotationdefaults": {
           "arrowcolor": "#2a3f5f",
           "arrowhead": 0,
           "arrowwidth": 1
          },
          "autotypenumbers": "strict",
          "coloraxis": {
           "colorbar": {
            "outlinewidth": 0,
            "ticks": ""
           }
          },
          "colorscale": {
           "diverging": [
            [
             0,
             "#8e0152"
            ],
            [
             0.1,
             "#c51b7d"
            ],
            [
             0.2,
             "#de77ae"
            ],
            [
             0.3,
             "#f1b6da"
            ],
            [
             0.4,
             "#fde0ef"
            ],
            [
             0.5,
             "#f7f7f7"
            ],
            [
             0.6,
             "#e6f5d0"
            ],
            [
             0.7,
             "#b8e186"
            ],
            [
             0.8,
             "#7fbc41"
            ],
            [
             0.9,
             "#4d9221"
            ],
            [
             1,
             "#276419"
            ]
           ],
           "sequential": [
            [
             0,
             "#0d0887"
            ],
            [
             0.1111111111111111,
             "#46039f"
            ],
            [
             0.2222222222222222,
             "#7201a8"
            ],
            [
             0.3333333333333333,
             "#9c179e"
            ],
            [
             0.4444444444444444,
             "#bd3786"
            ],
            [
             0.5555555555555556,
             "#d8576b"
            ],
            [
             0.6666666666666666,
             "#ed7953"
            ],
            [
             0.7777777777777778,
             "#fb9f3a"
            ],
            [
             0.8888888888888888,
             "#fdca26"
            ],
            [
             1,
             "#f0f921"
            ]
           ],
           "sequentialminus": [
            [
             0,
             "#0d0887"
            ],
            [
             0.1111111111111111,
             "#46039f"
            ],
            [
             0.2222222222222222,
             "#7201a8"
            ],
            [
             0.3333333333333333,
             "#9c179e"
            ],
            [
             0.4444444444444444,
             "#bd3786"
            ],
            [
             0.5555555555555556,
             "#d8576b"
            ],
            [
             0.6666666666666666,
             "#ed7953"
            ],
            [
             0.7777777777777778,
             "#fb9f3a"
            ],
            [
             0.8888888888888888,
             "#fdca26"
            ],
            [
             1,
             "#f0f921"
            ]
           ]
          },
          "colorway": [
           "#636efa",
           "#EF553B",
           "#00cc96",
           "#ab63fa",
           "#FFA15A",
           "#19d3f3",
           "#FF6692",
           "#B6E880",
           "#FF97FF",
           "#FECB52"
          ],
          "font": {
           "color": "#2a3f5f"
          },
          "geo": {
           "bgcolor": "white",
           "lakecolor": "white",
           "landcolor": "#E5ECF6",
           "showlakes": true,
           "showland": true,
           "subunitcolor": "white"
          },
          "hoverlabel": {
           "align": "left"
          },
          "hovermode": "closest",
          "mapbox": {
           "style": "light"
          },
          "paper_bgcolor": "white",
          "plot_bgcolor": "#E5ECF6",
          "polar": {
           "angularaxis": {
            "gridcolor": "white",
            "linecolor": "white",
            "ticks": ""
           },
           "bgcolor": "#E5ECF6",
           "radialaxis": {
            "gridcolor": "white",
            "linecolor": "white",
            "ticks": ""
           }
          },
          "scene": {
           "xaxis": {
            "backgroundcolor": "#E5ECF6",
            "gridcolor": "white",
            "gridwidth": 2,
            "linecolor": "white",
            "showbackground": true,
            "ticks": "",
            "zerolinecolor": "white"
           },
           "yaxis": {
            "backgroundcolor": "#E5ECF6",
            "gridcolor": "white",
            "gridwidth": 2,
            "linecolor": "white",
            "showbackground": true,
            "ticks": "",
            "zerolinecolor": "white"
           },
           "zaxis": {
            "backgroundcolor": "#E5ECF6",
            "gridcolor": "white",
            "gridwidth": 2,
            "linecolor": "white",
            "showbackground": true,
            "ticks": "",
            "zerolinecolor": "white"
           }
          },
          "shapedefaults": {
           "line": {
            "color": "#2a3f5f"
           }
          },
          "ternary": {
           "aaxis": {
            "gridcolor": "white",
            "linecolor": "white",
            "ticks": ""
           },
           "baxis": {
            "gridcolor": "white",
            "linecolor": "white",
            "ticks": ""
           },
           "bgcolor": "#E5ECF6",
           "caxis": {
            "gridcolor": "white",
            "linecolor": "white",
            "ticks": ""
           }
          },
          "title": {
           "x": 0.05
          },
          "xaxis": {
           "automargin": true,
           "gridcolor": "white",
           "linecolor": "white",
           "ticks": "",
           "title": {
            "standoff": 15
           },
           "zerolinecolor": "white",
           "zerolinewidth": 2
          },
          "yaxis": {
           "automargin": true,
           "gridcolor": "white",
           "linecolor": "white",
           "ticks": "",
           "title": {
            "standoff": 15
           },
           "zerolinecolor": "white",
           "zerolinewidth": 2
          }
         }
        },
        "title": {
         "text": "with mask"
        },
        "width": 600,
        "xaxis": {
         "anchor": "y",
         "constrain": "domain",
         "domain": [
          0,
          1
         ],
         "scaleanchor": "y"
        },
        "yaxis": {
         "anchor": "x",
         "autorange": "reversed",
         "constrain": "domain",
         "domain": [
          0,
          1
         ]
        }
       }
      }
     },
     "metadata": {},
     "output_type": "display_data"
    }
   ],
   "source": [
    "#考虑mask\n",
    "out,p_att = attention(query, key, value, mask = tril_mask(torch.zeros(3,5)))\n",
    "fig = px.imshow(p_att[0],color_continuous_scale=\"blues\",\n",
    "                height=600,width=600,\n",
    "                title=\"with mask\")\n",
    "fig.show()"
   ]
  },
  {
   "cell_type": "code",
   "execution_count": 8,
   "metadata": {},
   "outputs": [
    {
     "name": "stdout",
     "output_type": "stream",
     "text": [
      "q1 tensor([[[[0.1000, 0.1000, 0.1000, 0.1000],\n",
      "          [0.1000, 0.3000, 0.1000, 0.3000],\n",
      "          [0.1000, 0.3000, 0.1000, 0.3000]]]])\n",
      "torch.Size([1, 3, 4])\n",
      "q,k,v shape torch.Size([1, 2, 3, 2]) torch.Size([1, 2, 3, 2]) torch.Size([1, 2, 3, 2])\n",
      "scores shape,mask shape torch.Size([1, 2, 3, 3]) torch.Size([1, 1, 3, 3])\n",
      "p_attn.shape torch.Size([1, 2, 3, 3])\n",
      "out1:\n",
      " tensor([[[ 0.0982, -0.5530,  0.2645, -0.0386],\n",
      "         [ 0.0876, -0.5403,  0.2525, -0.0266],\n",
      "         [ 0.0840, -0.5361,  0.2484, -0.0226]]], grad_fn=<ViewBackward0>) torch.Size([1, 3, 4])\n",
      "q,k,v shape torch.Size([1, 2, 2, 2]) torch.Size([1, 2, 2, 2]) torch.Size([1, 2, 2, 2])\n",
      "scores shape,mask shape torch.Size([1, 2, 2, 2]) torch.Size([1, 1, 2, 2])\n",
      "p_attn.shape torch.Size([1, 2, 2, 2])\n",
      "out2:\n",
      " tensor([[[ 0.0982, -0.5530,  0.2645, -0.0386],\n",
      "         [ 0.1080, -0.4897,  0.2482, -0.0342]]], grad_fn=<ViewBackward0>) torch.Size([1, 2, 4])\n"
     ]
    }
   ],
   "source": [
    "cross_attn = MultiHeadAttention(h=2, d_model=4)\n",
    "cross_attn.eval()\n",
    "q1 = torch.tensor([[[0.1,0.1,0.1,0.1],[0.1,0.3,0.1,0.3],[0.1,0.3,0.1,0.3]]])\n",
    "print(\"q1\",q1.unsqueeze(1))\n",
    "print(q1.shape)\n",
    "k1 = q1.clone()\n",
    "v1 = q1.clone()\n",
    "tgt_mask = tril_mask(torch.zeros(3,3))\n",
    "# tgt_mask=None\n",
    "\n",
    "out1 = cross_attn.forward(q1,k1,v1,mask = tgt_mask)\n",
    "print(\"out1:\\n\",out1,out1.shape)\n",
    "\n",
    "# 改变序列的第2个元素取值，由于有mask的遮挡，不会影响第1个输出\n",
    "q2 = torch.tensor([[[0.1,0.1,0.1,0.1],[0.4,0.5,0.5,0.8]]])\n",
    "k2 = q2.clone()\n",
    "v2 = q2.clone()\n",
    "tgt_mask = tril_mask(torch.zeros(2,2))\n",
    "out2 = cross_attn.forward(q2,k2,v2,mask = tgt_mask)\n",
    "print(\"out2:\\n\",out2,out2.shape)\n"
   ]
  },
  {
   "cell_type": "code",
   "execution_count": null,
   "metadata": {},
   "outputs": [
    {
     "name": "stdout",
     "output_type": "stream",
     "text": [
      "torch.Size([200, 50])\n",
      "torch.Size([200, 50])\n",
      "torch.Size([200, 50])\n",
      "torch.Size([200, 1, 50])\n",
      "torch.Size([200, 50, 50])\n"
     ]
    },
    {
     "data": {
      "application/vnd.plotly.v1+json": {
       "config": {
        "plotlyServerURL": "https://plot.ly"
       },
       "data": [
        {
         "coloraxis": "coloraxis",
         "hovertemplate": "x: %{x}<br>y: %{y}<br>color: %{z}<extra></extra>",
         "name": "0",
         "type": "heatmap",
         "xaxis": "x",
         "yaxis": "y",
         "z": {
          "bdata": "/wAAAAAAAAAAAAAAAAAAAAAAAAAAAAAAAAAAAAAAAAAAAAAAAAAAAAAAAAAAAAAAAAD//wAAAAAAAAAAAAAAAAAAAAAAAAAAAAAAAAAAAAAAAAAAAAAAAAAAAAAAAAAAAAAAAP///wAAAAAAAAAAAAAAAAAAAAAAAAAAAAAAAAAAAAAAAAAAAAAAAAAAAAAAAAAAAAAA/////wAAAAAAAAAAAAAAAAAAAAAAAAAAAAAAAAAAAAAAAAAAAAAAAAAAAAAAAAAAAAD//////wAAAAAAAAAAAAAAAAAAAAAAAAAAAAAAAAAAAAAAAAAAAAAAAAAAAAAAAAAAAP///////wAAAAAAAAAAAAAAAAAAAAAAAAAAAAAAAAAAAAAAAAAAAAAAAAAAAAAAAAAA/////////wAAAAAAAAAAAAAAAAAAAAAAAAAAAAAAAAAAAAAAAAAAAAAAAAAAAAAAAAD//////////wAAAAAAAAAAAAAAAAAAAAAAAAAAAAAAAAAAAAAAAAAAAAAAAAAAAAAAAP///////////wAAAAAAAAAAAAAAAAAAAAAAAAAAAAAAAAAAAAAAAAAAAAAAAAAAAAAA/////////////wAAAAAAAAAAAAAAAAAAAAAAAAAAAAAAAAAAAAAAAAAAAAAAAAAAAAD//////////////wAAAAAAAAAAAAAAAAAAAAAAAAAAAAAAAAAAAAAAAAAAAAAAAAAAAP///////////////wAAAAAAAAAAAAAAAAAAAAAAAAAAAAAAAAAAAAAAAAAAAAAAAAAA/////////////////wAAAAAAAAAAAAAAAAAAAAAAAAAAAAAAAAAAAAAAAAAAAAAAAAD//////////////////wAAAAAAAAAAAAAAAAAAAAAAAAAAAAAAAAAAAAAAAAAAAAAAAP///////////////////wAAAAAAAAAAAAAAAAAAAAAAAAAAAAAAAAAAAAAAAAAAAAAA/////////////////////wAAAAAAAAAAAAAAAAAAAAAAAAAAAAAAAAAAAAAAAAAAAAD//////////////////////wAAAAAAAAAAAAAAAAAAAAAAAAAAAAAAAAAAAAAAAAAAAP///////////////////////wAAAAAAAAAAAAAAAAAAAAAAAAAAAAAAAAAAAAAAAAAA/////////////////////////wAAAAAAAAAAAAAAAAAAAAAAAAAAAAAAAAAAAAAAAAD//////////////////////////wAAAAAAAAAAAAAAAAAAAAAAAAAAAAAAAAAAAAAAAP///////////////////////////wAAAAAAAAAAAAAAAAAAAAAAAAAAAAAAAAAAAAAA/////////////////////////////wAAAAAAAAAAAAAAAAAAAAAAAAAAAAAAAAAAAAD/////////////////////////////AAAAAAAAAAAAAAAAAAAAAAAAAAAAAAAAAAAAAP////////////////////////////8AAAAAAAAAAAAAAAAAAAAAAAAAAAAAAAAAAAAA/////////////////////////////wAAAAAAAAAAAAAAAAAAAAAAAAAAAAAAAAAAAAD/////////////////////////////AAAAAAAAAAAAAAAAAAAAAAAAAAAAAAAAAAAAAP////////////////////////////8AAAAAAAAAAAAAAAAAAAAAAAAAAAAAAAAAAAAA/////////////////////////////wAAAAAAAAAAAAAAAAAAAAAAAAAAAAAAAAAAAAD/////////////////////////////AAAAAAAAAAAAAAAAAAAAAAAAAAAAAAAAAAAAAP////////////////////////////8AAAAAAAAAAAAAAAAAAAAAAAAAAAAAAAAAAAAA/////////////////////////////wAAAAAAAAAAAAAAAAAAAAAAAAAAAAAAAAAAAAD/////////////////////////////AAAAAAAAAAAAAAAAAAAAAAAAAAAAAAAAAAAAAP////////////////////////////8AAAAAAAAAAAAAAAAAAAAAAAAAAAAAAAAAAAAA/////////////////////////////wAAAAAAAAAAAAAAAAAAAAAAAAAAAAAAAAAAAAD/////////////////////////////AAAAAAAAAAAAAAAAAAAAAAAAAAAAAAAAAAAAAP////////////////////////////8AAAAAAAAAAAAAAAAAAAAAAAAAAAAAAAAAAAAA/////////////////////////////wAAAAAAAAAAAAAAAAAAAAAAAAAAAAAAAAAAAAD/////////////////////////////AAAAAAAAAAAAAAAAAAAAAAAAAAAAAAAAAAAAAP////////////////////////////8AAAAAAAAAAAAAAAAAAAAAAAAAAAAAAAAAAAAA/////////////////////////////wAAAAAAAAAAAAAAAAAAAAAAAAAAAAAAAAAAAAD/////////////////////////////AAAAAAAAAAAAAAAAAAAAAAAAAAAAAAAAAAAAAP////////////////////////////8AAAAAAAAAAAAAAAAAAAAAAAAAAAAAAAAAAAAA/////////////////////////////wAAAAAAAAAAAAAAAAAAAAAAAAAAAAAAAAAAAAD/////////////////////////////AAAAAAAAAAAAAAAAAAAAAAAAAAAAAAAAAAAAAP////////////////////////////8AAAAAAAAAAAAAAAAAAAAAAAAAAAAAAAAAAAAA/////////////////////////////wAAAAAAAAAAAAAAAAAAAAAAAAAAAAAAAAAAAAD/////////////////////////////AAAAAAAAAAAAAAAAAAAAAAAAAAAAAAAAAAAAAP////////////////////////////8AAAAAAAAAAAAAAAAAAAAAAAAAAAAAAAAAAAAA/////////////////////////////wAAAAAAAAAAAAAAAAAAAAAAAAAAAAAAAAAAAAD/////////////////////////////AAAAAAAAAAAAAAAAAAAAAAAAAAAAAAAAAAAAAA==",
          "dtype": "u1",
          "shape": "50, 50"
         }
        }
       ],
       "layout": {
        "coloraxis": {
         "colorscale": [
          [
           0,
           "rgb(247,251,255)"
          ],
          [
           0.125,
           "rgb(222,235,247)"
          ],
          [
           0.25,
           "rgb(198,219,239)"
          ],
          [
           0.375,
           "rgb(158,202,225)"
          ],
          [
           0.5,
           "rgb(107,174,214)"
          ],
          [
           0.625,
           "rgb(66,146,198)"
          ],
          [
           0.75,
           "rgb(33,113,181)"
          ],
          [
           0.875,
           "rgb(8,81,156)"
          ],
          [
           1,
           "rgb(8,48,107)"
          ]
         ]
        },
        "height": 600,
        "margin": {
         "t": 60
        },
        "template": {
         "data": {
          "bar": [
           {
            "error_x": {
             "color": "#2a3f5f"
            },
            "error_y": {
             "color": "#2a3f5f"
            },
            "marker": {
             "line": {
              "color": "#E5ECF6",
              "width": 0.5
             },
             "pattern": {
              "fillmode": "overlay",
              "size": 10,
              "solidity": 0.2
             }
            },
            "type": "bar"
           }
          ],
          "barpolar": [
           {
            "marker": {
             "line": {
              "color": "#E5ECF6",
              "width": 0.5
             },
             "pattern": {
              "fillmode": "overlay",
              "size": 10,
              "solidity": 0.2
             }
            },
            "type": "barpolar"
           }
          ],
          "carpet": [
           {
            "aaxis": {
             "endlinecolor": "#2a3f5f",
             "gridcolor": "white",
             "linecolor": "white",
             "minorgridcolor": "white",
             "startlinecolor": "#2a3f5f"
            },
            "baxis": {
             "endlinecolor": "#2a3f5f",
             "gridcolor": "white",
             "linecolor": "white",
             "minorgridcolor": "white",
             "startlinecolor": "#2a3f5f"
            },
            "type": "carpet"
           }
          ],
          "choropleth": [
           {
            "colorbar": {
             "outlinewidth": 0,
             "ticks": ""
            },
            "type": "choropleth"
           }
          ],
          "contour": [
           {
            "colorbar": {
             "outlinewidth": 0,
             "ticks": ""
            },
            "colorscale": [
             [
              0,
              "#0d0887"
             ],
             [
              0.1111111111111111,
              "#46039f"
             ],
             [
              0.2222222222222222,
              "#7201a8"
             ],
             [
              0.3333333333333333,
              "#9c179e"
             ],
             [
              0.4444444444444444,
              "#bd3786"
             ],
             [
              0.5555555555555556,
              "#d8576b"
             ],
             [
              0.6666666666666666,
              "#ed7953"
             ],
             [
              0.7777777777777778,
              "#fb9f3a"
             ],
             [
              0.8888888888888888,
              "#fdca26"
             ],
             [
              1,
              "#f0f921"
             ]
            ],
            "type": "contour"
           }
          ],
          "contourcarpet": [
           {
            "colorbar": {
             "outlinewidth": 0,
             "ticks": ""
            },
            "type": "contourcarpet"
           }
          ],
          "heatmap": [
           {
            "colorbar": {
             "outlinewidth": 0,
             "ticks": ""
            },
            "colorscale": [
             [
              0,
              "#0d0887"
             ],
             [
              0.1111111111111111,
              "#46039f"
             ],
             [
              0.2222222222222222,
              "#7201a8"
             ],
             [
              0.3333333333333333,
              "#9c179e"
             ],
             [
              0.4444444444444444,
              "#bd3786"
             ],
             [
              0.5555555555555556,
              "#d8576b"
             ],
             [
              0.6666666666666666,
              "#ed7953"
             ],
             [
              0.7777777777777778,
              "#fb9f3a"
             ],
             [
              0.8888888888888888,
              "#fdca26"
             ],
             [
              1,
              "#f0f921"
             ]
            ],
            "type": "heatmap"
           }
          ],
          "histogram": [
           {
            "marker": {
             "pattern": {
              "fillmode": "overlay",
              "size": 10,
              "solidity": 0.2
             }
            },
            "type": "histogram"
           }
          ],
          "histogram2d": [
           {
            "colorbar": {
             "outlinewidth": 0,
             "ticks": ""
            },
            "colorscale": [
             [
              0,
              "#0d0887"
             ],
             [
              0.1111111111111111,
              "#46039f"
             ],
             [
              0.2222222222222222,
              "#7201a8"
             ],
             [
              0.3333333333333333,
              "#9c179e"
             ],
             [
              0.4444444444444444,
              "#bd3786"
             ],
             [
              0.5555555555555556,
              "#d8576b"
             ],
             [
              0.6666666666666666,
              "#ed7953"
             ],
             [
              0.7777777777777778,
              "#fb9f3a"
             ],
             [
              0.8888888888888888,
              "#fdca26"
             ],
             [
              1,
              "#f0f921"
             ]
            ],
            "type": "histogram2d"
           }
          ],
          "histogram2dcontour": [
           {
            "colorbar": {
             "outlinewidth": 0,
             "ticks": ""
            },
            "colorscale": [
             [
              0,
              "#0d0887"
             ],
             [
              0.1111111111111111,
              "#46039f"
             ],
             [
              0.2222222222222222,
              "#7201a8"
             ],
             [
              0.3333333333333333,
              "#9c179e"
             ],
             [
              0.4444444444444444,
              "#bd3786"
             ],
             [
              0.5555555555555556,
              "#d8576b"
             ],
             [
              0.6666666666666666,
              "#ed7953"
             ],
             [
              0.7777777777777778,
              "#fb9f3a"
             ],
             [
              0.8888888888888888,
              "#fdca26"
             ],
             [
              1,
              "#f0f921"
             ]
            ],
            "type": "histogram2dcontour"
           }
          ],
          "mesh3d": [
           {
            "colorbar": {
             "outlinewidth": 0,
             "ticks": ""
            },
            "type": "mesh3d"
           }
          ],
          "parcoords": [
           {
            "line": {
             "colorbar": {
              "outlinewidth": 0,
              "ticks": ""
             }
            },
            "type": "parcoords"
           }
          ],
          "pie": [
           {
            "automargin": true,
            "type": "pie"
           }
          ],
          "scatter": [
           {
            "fillpattern": {
             "fillmode": "overlay",
             "size": 10,
             "solidity": 0.2
            },
            "type": "scatter"
           }
          ],
          "scatter3d": [
           {
            "line": {
             "colorbar": {
              "outlinewidth": 0,
              "ticks": ""
             }
            },
            "marker": {
             "colorbar": {
              "outlinewidth": 0,
              "ticks": ""
             }
            },
            "type": "scatter3d"
           }
          ],
          "scattercarpet": [
           {
            "marker": {
             "colorbar": {
              "outlinewidth": 0,
              "ticks": ""
             }
            },
            "type": "scattercarpet"
           }
          ],
          "scattergeo": [
           {
            "marker": {
             "colorbar": {
              "outlinewidth": 0,
              "ticks": ""
             }
            },
            "type": "scattergeo"
           }
          ],
          "scattergl": [
           {
            "marker": {
             "colorbar": {
              "outlinewidth": 0,
              "ticks": ""
             }
            },
            "type": "scattergl"
           }
          ],
          "scattermap": [
           {
            "marker": {
             "colorbar": {
              "outlinewidth": 0,
              "ticks": ""
             }
            },
            "type": "scattermap"
           }
          ],
          "scattermapbox": [
           {
            "marker": {
             "colorbar": {
              "outlinewidth": 0,
              "ticks": ""
             }
            },
            "type": "scattermapbox"
           }
          ],
          "scatterpolar": [
           {
            "marker": {
             "colorbar": {
              "outlinewidth": 0,
              "ticks": ""
             }
            },
            "type": "scatterpolar"
           }
          ],
          "scatterpolargl": [
           {
            "marker": {
             "colorbar": {
              "outlinewidth": 0,
              "ticks": ""
             }
            },
            "type": "scatterpolargl"
           }
          ],
          "scatterternary": [
           {
            "marker": {
             "colorbar": {
              "outlinewidth": 0,
              "ticks": ""
             }
            },
            "type": "scatterternary"
           }
          ],
          "surface": [
           {
            "colorbar": {
             "outlinewidth": 0,
             "ticks": ""
            },
            "colorscale": [
             [
              0,
              "#0d0887"
             ],
             [
              0.1111111111111111,
              "#46039f"
             ],
             [
              0.2222222222222222,
              "#7201a8"
             ],
             [
              0.3333333333333333,
              "#9c179e"
             ],
             [
              0.4444444444444444,
              "#bd3786"
             ],
             [
              0.5555555555555556,
              "#d8576b"
             ],
             [
              0.6666666666666666,
              "#ed7953"
             ],
             [
              0.7777777777777778,
              "#fb9f3a"
             ],
             [
              0.8888888888888888,
              "#fdca26"
             ],
             [
              1,
              "#f0f921"
             ]
            ],
            "type": "surface"
           }
          ],
          "table": [
           {
            "cells": {
             "fill": {
              "color": "#EBF0F8"
             },
             "line": {
              "color": "white"
             }
            },
            "header": {
             "fill": {
              "color": "#C8D4E3"
             },
             "line": {
              "color": "white"
             }
            },
            "type": "table"
           }
          ]
         },
         "layout": {
          "annotationdefaults": {
           "arrowcolor": "#2a3f5f",
           "arrowhead": 0,
           "arrowwidth": 1
          },
          "autotypenumbers": "strict",
          "coloraxis": {
           "colorbar": {
            "outlinewidth": 0,
            "ticks": ""
           }
          },
          "colorscale": {
           "diverging": [
            [
             0,
             "#8e0152"
            ],
            [
             0.1,
             "#c51b7d"
            ],
            [
             0.2,
             "#de77ae"
            ],
            [
             0.3,
             "#f1b6da"
            ],
            [
             0.4,
             "#fde0ef"
            ],
            [
             0.5,
             "#f7f7f7"
            ],
            [
             0.6,
             "#e6f5d0"
            ],
            [
             0.7,
             "#b8e186"
            ],
            [
             0.8,
             "#7fbc41"
            ],
            [
             0.9,
             "#4d9221"
            ],
            [
             1,
             "#276419"
            ]
           ],
           "sequential": [
            [
             0,
             "#0d0887"
            ],
            [
             0.1111111111111111,
             "#46039f"
            ],
            [
             0.2222222222222222,
             "#7201a8"
            ],
            [
             0.3333333333333333,
             "#9c179e"
            ],
            [
             0.4444444444444444,
             "#bd3786"
            ],
            [
             0.5555555555555556,
             "#d8576b"
            ],
            [
             0.6666666666666666,
             "#ed7953"
            ],
            [
             0.7777777777777778,
             "#fb9f3a"
            ],
            [
             0.8888888888888888,
             "#fdca26"
            ],
            [
             1,
             "#f0f921"
            ]
           ],
           "sequentialminus": [
            [
             0,
             "#0d0887"
            ],
            [
             0.1111111111111111,
             "#46039f"
            ],
            [
             0.2222222222222222,
             "#7201a8"
            ],
            [
             0.3333333333333333,
             "#9c179e"
            ],
            [
             0.4444444444444444,
             "#bd3786"
            ],
            [
             0.5555555555555556,
             "#d8576b"
            ],
            [
             0.6666666666666666,
             "#ed7953"
            ],
            [
             0.7777777777777778,
             "#fb9f3a"
            ],
            [
             0.8888888888888888,
             "#fdca26"
            ],
            [
             1,
             "#f0f921"
            ]
           ]
          },
          "colorway": [
           "#636efa",
           "#EF553B",
           "#00cc96",
           "#ab63fa",
           "#FFA15A",
           "#19d3f3",
           "#FF6692",
           "#B6E880",
           "#FF97FF",
           "#FECB52"
          ],
          "font": {
           "color": "#2a3f5f"
          },
          "geo": {
           "bgcolor": "white",
           "lakecolor": "white",
           "landcolor": "#E5ECF6",
           "showlakes": true,
           "showland": true,
           "subunitcolor": "white"
          },
          "hoverlabel": {
           "align": "left"
          },
          "hovermode": "closest",
          "mapbox": {
           "style": "light"
          },
          "paper_bgcolor": "white",
          "plot_bgcolor": "#E5ECF6",
          "polar": {
           "angularaxis": {
            "gridcolor": "white",
            "linecolor": "white",
            "ticks": ""
           },
           "bgcolor": "#E5ECF6",
           "radialaxis": {
            "gridcolor": "white",
            "linecolor": "white",
            "ticks": ""
           }
          },
          "scene": {
           "xaxis": {
            "backgroundcolor": "#E5ECF6",
            "gridcolor": "white",
            "gridwidth": 2,
            "linecolor": "white",
            "showbackground": true,
            "ticks": "",
            "zerolinecolor": "white"
           },
           "yaxis": {
            "backgroundcolor": "#E5ECF6",
            "gridcolor": "white",
            "gridwidth": 2,
            "linecolor": "white",
            "showbackground": true,
            "ticks": "",
            "zerolinecolor": "white"
           },
           "zaxis": {
            "backgroundcolor": "#E5ECF6",
            "gridcolor": "white",
            "gridwidth": 2,
            "linecolor": "white",
            "showbackground": true,
            "ticks": "",
            "zerolinecolor": "white"
           }
          },
          "shapedefaults": {
           "line": {
            "color": "#2a3f5f"
           }
          },
          "ternary": {
           "aaxis": {
            "gridcolor": "white",
            "linecolor": "white",
            "ticks": ""
           },
           "baxis": {
            "gridcolor": "white",
            "linecolor": "white",
            "ticks": ""
           },
           "bgcolor": "#E5ECF6",
           "caxis": {
            "gridcolor": "white",
            "linecolor": "white",
            "ticks": ""
           }
          },
          "title": {
           "x": 0.05
          },
          "xaxis": {
           "automargin": true,
           "gridcolor": "white",
           "linecolor": "white",
           "ticks": "",
           "title": {
            "standoff": 15
           },
           "zerolinecolor": "white",
           "zerolinewidth": 2
          },
          "yaxis": {
           "automargin": true,
           "gridcolor": "white",
           "linecolor": "white",
           "ticks": "",
           "title": {
            "standoff": 15
           },
           "zerolinecolor": "white",
           "zerolinewidth": 2
          }
         }
        },
        "width": 600,
        "xaxis": {
         "anchor": "y",
         "constrain": "domain",
         "domain": [
          0,
          1
         ],
         "scaleanchor": "y"
        },
        "yaxis": {
         "anchor": "x",
         "autorange": "reversed",
         "constrain": "domain",
         "domain": [
          0,
          1
         ]
        }
       }
      }
     },
     "metadata": {},
     "output_type": "display_data"
    }
   ],
   "source": [
    "# 测试MaskedBatch\n",
    "mbatch = MaskedBatch(src = src,tgt = tgt, pad = 0)\n",
    "print(mbatch.src.shape)\n",
    "print(mbatch.tgt.shape)\n",
    "print(mbatch.tgt_y.shape)\n",
    "\n",
    "print(mbatch.src_mask.shape)\n",
    "print(mbatch.tgt_mask.shape)\n",
    "px.imshow(mbatch.tgt_mask[0],color_continuous_scale=\"blues\",width=600,height=600)\n"
   ]
  },
  {
   "cell_type": "code",
   "execution_count": 10,
   "metadata": {},
   "outputs": [],
   "source": [
    "class PositionwiseFeedForward(nn.Module):\n",
    "    \"Implements FFN equation.\"\n",
    "    def __init__(self, d_model, d_ff, dropout=0.1):\n",
    "        super(PositionwiseFeedForward, self).__init__()\n",
    "        self.linear1 = nn.Linear(d_model, d_ff)  #线性层默认作用在最后一维度\n",
    "        self.linear2 = nn.Linear(d_ff, d_model)\n",
    "        self.dropout = nn.Dropout(dropout)\n",
    "\n",
    "    def forward(self, x):\n",
    "        return self.linear2(self.dropout(F.relu(self.linear1(x))))\n",
    "class LayerNorm(nn.Module):\n",
    "    \"Construct a layernorm module (similar to torch.nn.LayerNorm).\"\n",
    "    def __init__(self, features, eps=1e-6):\n",
    "        super(LayerNorm, self).__init__()\n",
    "        self.weight = nn.Parameter(torch.ones(features))\n",
    "        self.bias = nn.Parameter(torch.zeros(features))\n",
    "        self.eps = eps\n",
    "\n",
    "    def forward(self, x):\n",
    "        mean = x.mean(-1, keepdim=True)\n",
    "        std = x.std(-1, keepdim=True)\n",
    "        return self.weight * (x - mean) / (std + self.eps) + self.bias\n",
    "\n",
    "class ResConnection(nn.Module):\n",
    "    \"\"\"\n",
    "    A residual connection with a layer norm.\n",
    "    Note the norm is at last according to the paper, but it may be better at first.\n",
    "    \"\"\"\n",
    "    def __init__(self, size, dropout, norm_first=True):\n",
    "        super(ResConnection, self).__init__()\n",
    "        self.norm = LayerNorm(size)\n",
    "        self.dropout = nn.Dropout(dropout)\n",
    "        self.norm_first = norm_first\n",
    "\n",
    "    def forward(self, x, sublayer):\n",
    "        \"Apply residual connection to any sublayer with the same size.\"\n",
    "        if self.norm_first:\n",
    "            return x + self.dropout(sublayer(self.norm(x)))\n",
    "        else:\n",
    "            return self.norm(x + self.dropout(sublayer(x)))\n",
    "# 单词嵌入\n",
    "class WordEmbedding(nn.Module):\n",
    "    def __init__(self, d_model, vocab):\n",
    "        super(WordEmbedding, self).__init__()\n",
    "        self.embedding = nn.Embedding(vocab, d_model)\n",
    "        self.d_model = d_model\n",
    "\n",
    "    def forward(self, x):\n",
    "        return self.embedding(x) * math.sqrt(self.d_model) #note here, multiply sqrt(d_model)\n"
   ]
  },
  {
   "cell_type": "code",
   "execution_count": 11,
   "metadata": {},
   "outputs": [
    {
     "name": "stdout",
     "output_type": "stream",
     "text": [
      "z shape torch.Size([1, 100, 120])\n"
     ]
    },
    {
     "data": {
      "application/vnd.plotly.v1+json": {
       "config": {
        "plotlyServerURL": "https://plot.ly"
       },
       "data": [
        {
         "hovertemplate": "variable=dim0<br>x=%{x}<br>value=%{y}<extra></extra>",
         "legendgroup": "dim0",
         "line": {
          "color": "#636efa",
          "dash": "solid"
         },
         "marker": {
          "symbol": "circle"
         },
         "mode": "lines",
         "name": "dim0",
         "orientation": "v",
         "showlegend": true,
         "type": "scatter",
         "x": {
          "bdata": "AAECAwQFBgcICQoLDA0ODxAREhMUFRYXGBkaGxwdHh8gISIjJCUmJygpKissLS4vMDEyMzQ1Njc4OTo7PD0+P0BBQkNERUZHSElKS0xNTk9QUVJTVFVWV1hZWltcXV5fYGFiYw==",
          "dtype": "i1"
         },
         "xaxis": "x",
         "y": {
          "bdata": "AAAAAKRqVz+3x2g/w4EQPs+9Qb8QfHW/jA+PvkYwKD+VRn0/MgHTPvhEC79c/3+/2FwJvyIg1z5ymH0/RHkmPxBok74mHna/s0BAv2l5GT7Itmk/EC9WPxUFEbzmoVi//NNnvziHB74IN0M/DtV0Pyq0ij7p4ym/pO98vwbezr5NKg0/Ofp/P/dxBz/COtu+OOV9v+q+JL+fvZc+TLt2P7y/Pj/7bSK+KKFqvzDvVL+hA5E80NRZP5rbZj/oE/09VqxEvyIpdL//VYa+JJQrP6CTfD+0tso+zQwPv/Tvf79ehAW//VDfPucsfj9DASM/IxCcvn9Td7/yOj2/S18rPtSGaz8Lq1M/zoHZvFsDW7+X3mW/TRTrvbMdRj9ReHM/I/WBPu1ALb+MMny/UYvGvm7sED+N4H8/GJQDP7xi4759b36/V0Ahv4ZfoD685nc/XLI7PytNNL7GZ2y/p2JSv9D9ED2CLVw/99xkP/sP2T0Xi0e/nsJyv1Yje7496i4/aMx7P/Jbwj4oyRK/Bcx/vw==",
          "dtype": "f4"
         },
         "yaxis": "y"
        },
        {
         "hovertemplate": "variable=dim20<br>x=%{x}<br>value=%{y}<extra></extra>",
         "legendgroup": "dim20",
         "line": {
          "color": "#EF553B",
          "dash": "solid"
         },
         "marker": {
          "symbol": "circle"
         },
         "mode": "lines",
         "name": "dim20",
         "orientation": "v",
         "showlegend": true,
         "type": "scatter",
         "x": {
          "bdata": "AAECAwQFBgcICQoLDA0ODxAREhMUFRYXGBkaGxwdHh8gISIjJCUmJygpKissLS4vMDEyMzQ1Njc4OTo7PD0+P0BBQkNERUZHSElKS0xNTk9QUVJTVFVWV1hZWltcXV5fYGFiYw==",
          "dtype": "i1"
         },
         "xaxis": "x",
         "y": {
          "bdata": "AAAAAFLpWj6+2dU+yC0aP75NQj/PcWE/ZCl2P0F/fz/pBH0/r9duP2KfVT+DhjI/hSwHPwslqz6cDgA+XjG4vej+mb6w0v6+Iu8rv8+BUL91cGu/U3x7v3Xnf7+QfXi/ZZZlv7ERSL/ZTCG/lCXmvoQafr6dqBC9RnI3PppJxT523RI/vEs8PzcFXT+WhnM/ccV+P608fj+c8nE/tXhaP+PkOD+GxA4/jBS8PqLbIz5fFWC9naeIvgb77r7QICW/nSFLvwm+Z79qo3m/7f1/v16Cer+hcWm/wJVNv2w4KL/gJ/a+Qn2QvoORkL2ZwBM+iXq0PjVeCz+QDTY/CFJYPwCWcD9Bun0/PSN/P0PAdD9MDF8/MAg/P+kuFj/xx8w+UnRHPtwAn7xHSW6+3dbevtMdHr+PgEW/n8Fjv8R6d7+gwn+/KDd8v1cCbb8Y2FK/Pu4uv7jtAr8bv6G+CaHYvXa/3z2lcaM+hLIDP0OVLz/JWVM/k1htPwRefD9PuH8/wj93P5ZYYz947kQ/R2kdPw==",
          "dtype": "f4"
         },
         "yaxis": "y"
        },
        {
         "hovertemplate": "variable=dim60<br>x=%{x}<br>value=%{y}<extra></extra>",
         "legendgroup": "dim60",
         "line": {
          "color": "#00cc96",
          "dash": "solid"
         },
         "marker": {
          "symbol": "circle"
         },
         "mode": "lines",
         "name": "dim60",
         "orientation": "v",
         "showlegend": true,
         "type": "scatter",
         "x": {
          "bdata": "AAECAwQFBgcICQoLDA0ODxAREhMUFRYXGBkaGxwdHh8gISIjJCUmJygpKissLS4vMDEyMzQ1Njc4OTo7PD0+P0BBQkNERUZHSElKS0xNTk9QUVJTVFVWV1hZWltcXV5fYGFiYw==",
          "dtype": "i1"
         },
         "xaxis": "x",
         "y": {
          "bdata": "AAAAAFfWIzw+1KM8H7n1PNvLIz30tkw90Zx1PTI+jz1QqqM9PhK4PXZ1zD1y0+A9rCv1PdC+BD5k5A4+TwYZPlAkIz4jPi0+h1M3PjpkQT74b0s+g3ZVPpZ3Xz7wcmk+UWhzPndXfT4QoIM+BZGIPn1+jT5UaJI+bE6XPqUwnD7eDqE+9+ilPtK+qj5NkK8+SV20PqkluT5K6b0+DqjCPtdhxz6GFsw++sXQPhZw1T69FNo+zbPePipN4z624Oc+Um7sPuD18D5Ed/U+XvL5PhJn/j6iagE/ap4DP9XOBT/S+wc/UyUKP0xLDD+tbQ4/aIwQP3GnEj+4vhQ/MdIWP83hGD9/7Ro/OfUcP+/4Hj+U+CA/GvQiP3PrJD+U3iY/b80oP/e3Kj8iniw/4X8uPyhdMD/rNTI/Hgo0P7bZNT+mpDc/4mo5P18sOz8S6Tw/7qA+P+lTQD/4AUI/EKtDPyVPRT8s7kY/HIhIP+ocSj+MrEs/9zZNPyG8Tj//O1A/irZRP7UrUz95m1Q/zAVWPw==",
          "dtype": "f4"
         },
         "yaxis": "y"
        },
        {
         "hovertemplate": "variable=dim110<br>x=%{x}<br>value=%{y}<extra></extra>",
         "legendgroup": "dim110",
         "line": {
          "color": "#ab63fa",
          "dash": "solid"
         },
         "marker": {
          "symbol": "circle"
         },
         "mode": "lines",
         "name": "dim110",
         "orientation": "v",
         "showlegend": true,
         "type": "scatter",
         "x": {
          "bdata": "AAECAwQFBgcICQoLDA0ODxAREhMUFRYXGBkaGxwdHh8gISIjJCUmJygpKissLS4vMDEyMzQ1Njc4OTo7PD0+P0BBQkNERUZHSElKS0xNTk9QUVJTVFVWV1hZWltcXV5fYGFiYw==",
          "dtype": "i1"
         },
         "xaxis": "x",
         "y": {
          "bdata": "AAAAAKvoYTmr6OE5f24pOqnoYTppMY06fW6pOpGrxTqk6OE6tiX+OmQxDTvsTxs7dG4pO/uMNzuCq0U7CMpTO47oYTsTB3A7liV+Ow0ihjtOMY07j0CUO9BPmzsPX6I7T26pO459sDvMjLc7Cpy+O0erxTuEusw7v8nTO/vY2js26OE7b/foO6kG8DviFfc7GSX+OyiaAjzEIQY8XqkJPPgwDTyTuBA8K0AUPMXHFzxeTxs89dYePI1eIjwk5iU8um0pPFD1LDzmfDA8ewQ0PA+MNzykEzs8Nps+PMkiQjxcqkU87TFJPH65TDwOQVA8nchTPC1QVzy711o8SV9ePNbmYTxjbmU87vVoPHl9bDwDBXA8jIxzPBUUdzyem3o8JCN+PFbVgDwYmYI821yEPJ0ghjxf5Ic8H6iJPOFrizyhL408YPOOPCG3kDzfepI8nj6UPFwCljwaxpc814mZPJRNmzxQEZ08DNWePMiYoDyCXKI8PCCkPPfjpTywp6c8aGupPCEvqzzZ8qw8kLauPA==",
          "dtype": "f4"
         },
         "yaxis": "y"
        }
       ],
       "layout": {
        "legend": {
         "title": {
          "text": "variable"
         },
         "tracegroupgap": 0
        },
        "margin": {
         "t": 60
        },
        "template": {
         "data": {
          "bar": [
           {
            "error_x": {
             "color": "#2a3f5f"
            },
            "error_y": {
             "color": "#2a3f5f"
            },
            "marker": {
             "line": {
              "color": "#E5ECF6",
              "width": 0.5
             },
             "pattern": {
              "fillmode": "overlay",
              "size": 10,
              "solidity": 0.2
             }
            },
            "type": "bar"
           }
          ],
          "barpolar": [
           {
            "marker": {
             "line": {
              "color": "#E5ECF6",
              "width": 0.5
             },
             "pattern": {
              "fillmode": "overlay",
              "size": 10,
              "solidity": 0.2
             }
            },
            "type": "barpolar"
           }
          ],
          "carpet": [
           {
            "aaxis": {
             "endlinecolor": "#2a3f5f",
             "gridcolor": "white",
             "linecolor": "white",
             "minorgridcolor": "white",
             "startlinecolor": "#2a3f5f"
            },
            "baxis": {
             "endlinecolor": "#2a3f5f",
             "gridcolor": "white",
             "linecolor": "white",
             "minorgridcolor": "white",
             "startlinecolor": "#2a3f5f"
            },
            "type": "carpet"
           }
          ],
          "choropleth": [
           {
            "colorbar": {
             "outlinewidth": 0,
             "ticks": ""
            },
            "type": "choropleth"
           }
          ],
          "contour": [
           {
            "colorbar": {
             "outlinewidth": 0,
             "ticks": ""
            },
            "colorscale": [
             [
              0,
              "#0d0887"
             ],
             [
              0.1111111111111111,
              "#46039f"
             ],
             [
              0.2222222222222222,
              "#7201a8"
             ],
             [
              0.3333333333333333,
              "#9c179e"
             ],
             [
              0.4444444444444444,
              "#bd3786"
             ],
             [
              0.5555555555555556,
              "#d8576b"
             ],
             [
              0.6666666666666666,
              "#ed7953"
             ],
             [
              0.7777777777777778,
              "#fb9f3a"
             ],
             [
              0.8888888888888888,
              "#fdca26"
             ],
             [
              1,
              "#f0f921"
             ]
            ],
            "type": "contour"
           }
          ],
          "contourcarpet": [
           {
            "colorbar": {
             "outlinewidth": 0,
             "ticks": ""
            },
            "type": "contourcarpet"
           }
          ],
          "heatmap": [
           {
            "colorbar": {
             "outlinewidth": 0,
             "ticks": ""
            },
            "colorscale": [
             [
              0,
              "#0d0887"
             ],
             [
              0.1111111111111111,
              "#46039f"
             ],
             [
              0.2222222222222222,
              "#7201a8"
             ],
             [
              0.3333333333333333,
              "#9c179e"
             ],
             [
              0.4444444444444444,
              "#bd3786"
             ],
             [
              0.5555555555555556,
              "#d8576b"
             ],
             [
              0.6666666666666666,
              "#ed7953"
             ],
             [
              0.7777777777777778,
              "#fb9f3a"
             ],
             [
              0.8888888888888888,
              "#fdca26"
             ],
             [
              1,
              "#f0f921"
             ]
            ],
            "type": "heatmap"
           }
          ],
          "histogram": [
           {
            "marker": {
             "pattern": {
              "fillmode": "overlay",
              "size": 10,
              "solidity": 0.2
             }
            },
            "type": "histogram"
           }
          ],
          "histogram2d": [
           {
            "colorbar": {
             "outlinewidth": 0,
             "ticks": ""
            },
            "colorscale": [
             [
              0,
              "#0d0887"
             ],
             [
              0.1111111111111111,
              "#46039f"
             ],
             [
              0.2222222222222222,
              "#7201a8"
             ],
             [
              0.3333333333333333,
              "#9c179e"
             ],
             [
              0.4444444444444444,
              "#bd3786"
             ],
             [
              0.5555555555555556,
              "#d8576b"
             ],
             [
              0.6666666666666666,
              "#ed7953"
             ],
             [
              0.7777777777777778,
              "#fb9f3a"
             ],
             [
              0.8888888888888888,
              "#fdca26"
             ],
             [
              1,
              "#f0f921"
             ]
            ],
            "type": "histogram2d"
           }
          ],
          "histogram2dcontour": [
           {
            "colorbar": {
             "outlinewidth": 0,
             "ticks": ""
            },
            "colorscale": [
             [
              0,
              "#0d0887"
             ],
             [
              0.1111111111111111,
              "#46039f"
             ],
             [
              0.2222222222222222,
              "#7201a8"
             ],
             [
              0.3333333333333333,
              "#9c179e"
             ],
             [
              0.4444444444444444,
              "#bd3786"
             ],
             [
              0.5555555555555556,
              "#d8576b"
             ],
             [
              0.6666666666666666,
              "#ed7953"
             ],
             [
              0.7777777777777778,
              "#fb9f3a"
             ],
             [
              0.8888888888888888,
              "#fdca26"
             ],
             [
              1,
              "#f0f921"
             ]
            ],
            "type": "histogram2dcontour"
           }
          ],
          "mesh3d": [
           {
            "colorbar": {
             "outlinewidth": 0,
             "ticks": ""
            },
            "type": "mesh3d"
           }
          ],
          "parcoords": [
           {
            "line": {
             "colorbar": {
              "outlinewidth": 0,
              "ticks": ""
             }
            },
            "type": "parcoords"
           }
          ],
          "pie": [
           {
            "automargin": true,
            "type": "pie"
           }
          ],
          "scatter": [
           {
            "fillpattern": {
             "fillmode": "overlay",
             "size": 10,
             "solidity": 0.2
            },
            "type": "scatter"
           }
          ],
          "scatter3d": [
           {
            "line": {
             "colorbar": {
              "outlinewidth": 0,
              "ticks": ""
             }
            },
            "marker": {
             "colorbar": {
              "outlinewidth": 0,
              "ticks": ""
             }
            },
            "type": "scatter3d"
           }
          ],
          "scattercarpet": [
           {
            "marker": {
             "colorbar": {
              "outlinewidth": 0,
              "ticks": ""
             }
            },
            "type": "scattercarpet"
           }
          ],
          "scattergeo": [
           {
            "marker": {
             "colorbar": {
              "outlinewidth": 0,
              "ticks": ""
             }
            },
            "type": "scattergeo"
           }
          ],
          "scattergl": [
           {
            "marker": {
             "colorbar": {
              "outlinewidth": 0,
              "ticks": ""
             }
            },
            "type": "scattergl"
           }
          ],
          "scattermap": [
           {
            "marker": {
             "colorbar": {
              "outlinewidth": 0,
              "ticks": ""
             }
            },
            "type": "scattermap"
           }
          ],
          "scattermapbox": [
           {
            "marker": {
             "colorbar": {
              "outlinewidth": 0,
              "ticks": ""
             }
            },
            "type": "scattermapbox"
           }
          ],
          "scatterpolar": [
           {
            "marker": {
             "colorbar": {
              "outlinewidth": 0,
              "ticks": ""
             }
            },
            "type": "scatterpolar"
           }
          ],
          "scatterpolargl": [
           {
            "marker": {
             "colorbar": {
              "outlinewidth": 0,
              "ticks": ""
             }
            },
            "type": "scatterpolargl"
           }
          ],
          "scatterternary": [
           {
            "marker": {
             "colorbar": {
              "outlinewidth": 0,
              "ticks": ""
             }
            },
            "type": "scatterternary"
           }
          ],
          "surface": [
           {
            "colorbar": {
             "outlinewidth": 0,
             "ticks": ""
            },
            "colorscale": [
             [
              0,
              "#0d0887"
             ],
             [
              0.1111111111111111,
              "#46039f"
             ],
             [
              0.2222222222222222,
              "#7201a8"
             ],
             [
              0.3333333333333333,
              "#9c179e"
             ],
             [
              0.4444444444444444,
              "#bd3786"
             ],
             [
              0.5555555555555556,
              "#d8576b"
             ],
             [
              0.6666666666666666,
              "#ed7953"
             ],
             [
              0.7777777777777778,
              "#fb9f3a"
             ],
             [
              0.8888888888888888,
              "#fdca26"
             ],
             [
              1,
              "#f0f921"
             ]
            ],
            "type": "surface"
           }
          ],
          "table": [
           {
            "cells": {
             "fill": {
              "color": "#EBF0F8"
             },
             "line": {
              "color": "white"
             }
            },
            "header": {
             "fill": {
              "color": "#C8D4E3"
             },
             "line": {
              "color": "white"
             }
            },
            "type": "table"
           }
          ]
         },
         "layout": {
          "annotationdefaults": {
           "arrowcolor": "#2a3f5f",
           "arrowhead": 0,
           "arrowwidth": 1
          },
          "autotypenumbers": "strict",
          "coloraxis": {
           "colorbar": {
            "outlinewidth": 0,
            "ticks": ""
           }
          },
          "colorscale": {
           "diverging": [
            [
             0,
             "#8e0152"
            ],
            [
             0.1,
             "#c51b7d"
            ],
            [
             0.2,
             "#de77ae"
            ],
            [
             0.3,
             "#f1b6da"
            ],
            [
             0.4,
             "#fde0ef"
            ],
            [
             0.5,
             "#f7f7f7"
            ],
            [
             0.6,
             "#e6f5d0"
            ],
            [
             0.7,
             "#b8e186"
            ],
            [
             0.8,
             "#7fbc41"
            ],
            [
             0.9,
             "#4d9221"
            ],
            [
             1,
             "#276419"
            ]
           ],
           "sequential": [
            [
             0,
             "#0d0887"
            ],
            [
             0.1111111111111111,
             "#46039f"
            ],
            [
             0.2222222222222222,
             "#7201a8"
            ],
            [
             0.3333333333333333,
             "#9c179e"
            ],
            [
             0.4444444444444444,
             "#bd3786"
            ],
            [
             0.5555555555555556,
             "#d8576b"
            ],
            [
             0.6666666666666666,
             "#ed7953"
            ],
            [
             0.7777777777777778,
             "#fb9f3a"
            ],
            [
             0.8888888888888888,
             "#fdca26"
            ],
            [
             1,
             "#f0f921"
            ]
           ],
           "sequentialminus": [
            [
             0,
             "#0d0887"
            ],
            [
             0.1111111111111111,
             "#46039f"
            ],
            [
             0.2222222222222222,
             "#7201a8"
            ],
            [
             0.3333333333333333,
             "#9c179e"
            ],
            [
             0.4444444444444444,
             "#bd3786"
            ],
            [
             0.5555555555555556,
             "#d8576b"
            ],
            [
             0.6666666666666666,
             "#ed7953"
            ],
            [
             0.7777777777777778,
             "#fb9f3a"
            ],
            [
             0.8888888888888888,
             "#fdca26"
            ],
            [
             1,
             "#f0f921"
            ]
           ]
          },
          "colorway": [
           "#636efa",
           "#EF553B",
           "#00cc96",
           "#ab63fa",
           "#FFA15A",
           "#19d3f3",
           "#FF6692",
           "#B6E880",
           "#FF97FF",
           "#FECB52"
          ],
          "font": {
           "color": "#2a3f5f"
          },
          "geo": {
           "bgcolor": "white",
           "lakecolor": "white",
           "landcolor": "#E5ECF6",
           "showlakes": true,
           "showland": true,
           "subunitcolor": "white"
          },
          "hoverlabel": {
           "align": "left"
          },
          "hovermode": "closest",
          "mapbox": {
           "style": "light"
          },
          "paper_bgcolor": "white",
          "plot_bgcolor": "#E5ECF6",
          "polar": {
           "angularaxis": {
            "gridcolor": "white",
            "linecolor": "white",
            "ticks": ""
           },
           "bgcolor": "#E5ECF6",
           "radialaxis": {
            "gridcolor": "white",
            "linecolor": "white",
            "ticks": ""
           }
          },
          "scene": {
           "xaxis": {
            "backgroundcolor": "#E5ECF6",
            "gridcolor": "white",
            "gridwidth": 2,
            "linecolor": "white",
            "showbackground": true,
            "ticks": "",
            "zerolinecolor": "white"
           },
           "yaxis": {
            "backgroundcolor": "#E5ECF6",
            "gridcolor": "white",
            "gridwidth": 2,
            "linecolor": "white",
            "showbackground": true,
            "ticks": "",
            "zerolinecolor": "white"
           },
           "zaxis": {
            "backgroundcolor": "#E5ECF6",
            "gridcolor": "white",
            "gridwidth": 2,
            "linecolor": "white",
            "showbackground": true,
            "ticks": "",
            "zerolinecolor": "white"
           }
          },
          "shapedefaults": {
           "line": {
            "color": "#2a3f5f"
           }
          },
          "ternary": {
           "aaxis": {
            "gridcolor": "white",
            "linecolor": "white",
            "ticks": ""
           },
           "baxis": {
            "gridcolor": "white",
            "linecolor": "white",
            "ticks": ""
           },
           "bgcolor": "#E5ECF6",
           "caxis": {
            "gridcolor": "white",
            "linecolor": "white",
            "ticks": ""
           }
          },
          "title": {
           "x": 0.05
          },
          "xaxis": {
           "automargin": true,
           "gridcolor": "white",
           "linecolor": "white",
           "ticks": "",
           "title": {
            "standoff": 15
           },
           "zerolinecolor": "white",
           "zerolinewidth": 2
          },
          "yaxis": {
           "automargin": true,
           "gridcolor": "white",
           "linecolor": "white",
           "ticks": "",
           "title": {
            "standoff": 15
           },
           "zerolinecolor": "white",
           "zerolinewidth": 2
          }
         }
        },
        "xaxis": {
         "anchor": "y",
         "domain": [
          0,
          1
         ],
         "title": {
          "text": "x"
         }
        },
        "yaxis": {
         "anchor": "x",
         "domain": [
          0,
          1
         ],
         "title": {
          "text": "value"
         }
        }
       }
      }
     },
     "metadata": {},
     "output_type": "display_data"
    }
   ],
   "source": [
    "# 位置编码\n",
    "class PositionEncoding(nn.Module):\n",
    "    \"Implement the PE function.\"\n",
    "    def __init__(self, d_model, dropout, max_len=5000):\n",
    "        super(PositionEncoding, self).__init__()\n",
    "        self.dropout = nn.Dropout(p=dropout)\n",
    "        \n",
    "        # Compute the positional encodings once in log space.\n",
    "        pe = torch.zeros(max_len, d_model)\n",
    "        position = torch.arange(0, max_len).unsqueeze(1)\n",
    "        div_term = torch.exp(torch.arange(0, d_model, 2) *\n",
    "                             -(math.log(10000.0) / d_model))\n",
    "        pe[:, 0::2] = torch.sin(position * div_term)\n",
    "        pe[:, 1::2] = torch.cos(position * div_term)\n",
    "        pe = pe.unsqueeze(0)\n",
    "        self.register_buffer('pe', pe)\n",
    "        \n",
    "    def forward(self, x):\n",
    "        x = x + self.pe[:, :x.size(1)]\n",
    "        return self.dropout(x)\n",
    "    \n",
    "\n",
    "pe = PositionEncoding(120, 0)\n",
    "z = pe.forward(torch.zeros(1, 100, 120))\n",
    "\n",
    "\n",
    "print(\"z shape\",z.shape)\n",
    "df = pd.DataFrame(z[0, :, [0,20,60,110]].data.numpy(),columns = [\"dim\"+c for c in ['0','20','60','110']])\n",
    "df.insert(0,\"x\",np.arange(100))\n",
    "px.line(df, x = \"x\",y = [\"dim\"+c for c in ['0','20','60','110']]).show()\n",
    "# 不同纬度在序列位置上的编码值分布"
   ]
  },
  {
   "cell_type": "code",
   "execution_count": 12,
   "metadata": {},
   "outputs": [
    {
     "data": {
      "text/html": [
       "<div>\n",
       "<style scoped>\n",
       "    .dataframe tbody tr th:only-of-type {\n",
       "        vertical-align: middle;\n",
       "    }\n",
       "\n",
       "    .dataframe tbody tr th {\n",
       "        vertical-align: top;\n",
       "    }\n",
       "\n",
       "    .dataframe thead th {\n",
       "        text-align: right;\n",
       "    }\n",
       "</style>\n",
       "<table border=\"1\" class=\"dataframe\">\n",
       "  <thead>\n",
       "    <tr style=\"text-align: right;\">\n",
       "      <th></th>\n",
       "      <th>x</th>\n",
       "      <th>dim0</th>\n",
       "      <th>dim20</th>\n",
       "      <th>dim60</th>\n",
       "      <th>dim110</th>\n",
       "    </tr>\n",
       "  </thead>\n",
       "  <tbody>\n",
       "    <tr>\n",
       "      <th>0</th>\n",
       "      <td>0</td>\n",
       "      <td>0.000000</td>\n",
       "      <td>0.000000</td>\n",
       "      <td>0.000000</td>\n",
       "      <td>0.000000</td>\n",
       "    </tr>\n",
       "    <tr>\n",
       "      <th>1</th>\n",
       "      <td>1</td>\n",
       "      <td>0.841471</td>\n",
       "      <td>0.213781</td>\n",
       "      <td>0.010000</td>\n",
       "      <td>0.000215</td>\n",
       "    </tr>\n",
       "    <tr>\n",
       "      <th>2</th>\n",
       "      <td>2</td>\n",
       "      <td>0.909297</td>\n",
       "      <td>0.417677</td>\n",
       "      <td>0.019999</td>\n",
       "      <td>0.000431</td>\n",
       "    </tr>\n",
       "    <tr>\n",
       "      <th>3</th>\n",
       "      <td>3</td>\n",
       "      <td>0.141120</td>\n",
       "      <td>0.602261</td>\n",
       "      <td>0.029995</td>\n",
       "      <td>0.000646</td>\n",
       "    </tr>\n",
       "    <tr>\n",
       "      <th>4</th>\n",
       "      <td>4</td>\n",
       "      <td>-0.756802</td>\n",
       "      <td>0.758999</td>\n",
       "      <td>0.039989</td>\n",
       "      <td>0.000862</td>\n",
       "    </tr>\n",
       "  </tbody>\n",
       "</table>\n",
       "</div>"
      ],
      "text/plain": [
       "   x      dim0     dim20     dim60    dim110\n",
       "0  0  0.000000  0.000000  0.000000  0.000000\n",
       "1  1  0.841471  0.213781  0.010000  0.000215\n",
       "2  2  0.909297  0.417677  0.019999  0.000431\n",
       "3  3  0.141120  0.602261  0.029995  0.000646\n",
       "4  4 -0.756802  0.758999  0.039989  0.000862"
      ]
     },
     "execution_count": 12,
     "metadata": {},
     "output_type": "execute_result"
    }
   ],
   "source": [
    "df.head()"
   ]
  },
  {
   "cell_type": "code",
   "execution_count": 13,
   "metadata": {},
   "outputs": [
    {
     "data": {
      "text/plain": [
       "(torch.Size([5000, 1]), torch.Size([2]))"
      ]
     },
     "execution_count": 13,
     "metadata": {},
     "output_type": "execute_result"
    }
   ],
   "source": [
    "torch.arange(0, 5000).unsqueeze(1).shape,torch.exp(torch.arange(0, 4, 2) * -(math.log(10000.0) / 4)).shape"
   ]
  },
  {
   "cell_type": "code",
   "execution_count": 14,
   "metadata": {},
   "outputs": [
    {
     "name": "stdout",
     "output_type": "stream",
     "text": [
      "position shape torch.Size([5000, 1])\n"
     ]
    },
    {
     "data": {
      "text/plain": [
       "torch.Size([1, 5000, 512])"
      ]
     },
     "execution_count": 14,
     "metadata": {},
     "output_type": "execute_result"
    }
   ],
   "source": [
    "max_len = 5000\n",
    "d_model = 512\n",
    "pe = torch.zeros(max_len, d_model)\n",
    "position = torch.arange(0, max_len).unsqueeze(1)\n",
    "print(\"position shape\",position.shape)\n",
    "div_term = torch.exp(torch.arange(0, d_model, 2) *\n",
    "                        -(math.log(10000.0) / d_model))\n",
    "pe[:, 0::2] = torch.sin(position * div_term)\n",
    "pe[:, 1::2] = torch.cos(position * div_term)\n",
    "pe = pe.unsqueeze(0)\n",
    "pe.shape"
   ]
  },
  {
   "cell_type": "code",
   "execution_count": 15,
   "metadata": {},
   "outputs": [
    {
     "data": {
      "text/plain": [
       "torch.Size([256])"
      ]
     },
     "execution_count": 15,
     "metadata": {},
     "output_type": "execute_result"
    }
   ],
   "source": [
    "torch.arange(0, d_model, 2).shape"
   ]
  },
  {
   "cell_type": "code",
   "execution_count": 16,
   "metadata": {},
   "outputs": [
    {
     "data": {
      "application/vnd.plotly.v1+json": {
       "config": {
        "plotlyServerURL": "https://plot.ly"
       },
       "data": [
        {
         "coloraxis": "coloraxis",
         "hovertemplate": "x: %{x}<br>y: %{y}<br>color: %{z}<extra></extra>",
         "name": "0",
         "type": "heatmap",
         "xaxis": "x",
         "yaxis": "y",
         "z": {
          "bdata": "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",
          "dtype": "f4",
          "shape": "100, 120"
         }
        }
       ],
       "layout": {
        "coloraxis": {
         "colorscale": [
          [
           0,
           "rgb(247,251,255)"
          ],
          [
           0.125,
           "rgb(222,235,247)"
          ],
          [
           0.25,
           "rgb(198,219,239)"
          ],
          [
           0.375,
           "rgb(158,202,225)"
          ],
          [
           0.5,
           "rgb(107,174,214)"
          ],
          [
           0.625,
           "rgb(66,146,198)"
          ],
          [
           0.75,
           "rgb(33,113,181)"
          ],
          [
           0.875,
           "rgb(8,81,156)"
          ],
          [
           1,
           "rgb(8,48,107)"
          ]
         ]
        },
        "height": 800,
        "margin": {
         "t": 60
        },
        "template": {
         "data": {
          "bar": [
           {
            "error_x": {
             "color": "#2a3f5f"
            },
            "error_y": {
             "color": "#2a3f5f"
            },
            "marker": {
             "line": {
              "color": "#E5ECF6",
              "width": 0.5
             },
             "pattern": {
              "fillmode": "overlay",
              "size": 10,
              "solidity": 0.2
             }
            },
            "type": "bar"
           }
          ],
          "barpolar": [
           {
            "marker": {
             "line": {
              "color": "#E5ECF6",
              "width": 0.5
             },
             "pattern": {
              "fillmode": "overlay",
              "size": 10,
              "solidity": 0.2
             }
            },
            "type": "barpolar"
           }
          ],
          "carpet": [
           {
            "aaxis": {
             "endlinecolor": "#2a3f5f",
             "gridcolor": "white",
             "linecolor": "white",
             "minorgridcolor": "white",
             "startlinecolor": "#2a3f5f"
            },
            "baxis": {
             "endlinecolor": "#2a3f5f",
             "gridcolor": "white",
             "linecolor": "white",
             "minorgridcolor": "white",
             "startlinecolor": "#2a3f5f"
            },
            "type": "carpet"
           }
          ],
          "choropleth": [
           {
            "colorbar": {
             "outlinewidth": 0,
             "ticks": ""
            },
            "type": "choropleth"
           }
          ],
          "contour": [
           {
            "colorbar": {
             "outlinewidth": 0,
             "ticks": ""
            },
            "colorscale": [
             [
              0,
              "#0d0887"
             ],
             [
              0.1111111111111111,
              "#46039f"
             ],
             [
              0.2222222222222222,
              "#7201a8"
             ],
             [
              0.3333333333333333,
              "#9c179e"
             ],
             [
              0.4444444444444444,
              "#bd3786"
             ],
             [
              0.5555555555555556,
              "#d8576b"
             ],
             [
              0.6666666666666666,
              "#ed7953"
             ],
             [
              0.7777777777777778,
              "#fb9f3a"
             ],
             [
              0.8888888888888888,
              "#fdca26"
             ],
             [
              1,
              "#f0f921"
             ]
            ],
            "type": "contour"
           }
          ],
          "contourcarpet": [
           {
            "colorbar": {
             "outlinewidth": 0,
             "ticks": ""
            },
            "type": "contourcarpet"
           }
          ],
          "heatmap": [
           {
            "colorbar": {
             "outlinewidth": 0,
             "ticks": ""
            },
            "colorscale": [
             [
              0,
              "#0d0887"
             ],
             [
              0.1111111111111111,
              "#46039f"
             ],
             [
              0.2222222222222222,
              "#7201a8"
             ],
             [
              0.3333333333333333,
              "#9c179e"
             ],
             [
              0.4444444444444444,
              "#bd3786"
             ],
             [
              0.5555555555555556,
              "#d8576b"
             ],
             [
              0.6666666666666666,
              "#ed7953"
             ],
             [
              0.7777777777777778,
              "#fb9f3a"
             ],
             [
              0.8888888888888888,
              "#fdca26"
             ],
             [
              1,
              "#f0f921"
             ]
            ],
            "type": "heatmap"
           }
          ],
          "histogram": [
           {
            "marker": {
             "pattern": {
              "fillmode": "overlay",
              "size": 10,
              "solidity": 0.2
             }
            },
            "type": "histogram"
           }
          ],
          "histogram2d": [
           {
            "colorbar": {
             "outlinewidth": 0,
             "ticks": ""
            },
            "colorscale": [
             [
              0,
              "#0d0887"
             ],
             [
              0.1111111111111111,
              "#46039f"
             ],
             [
              0.2222222222222222,
              "#7201a8"
             ],
             [
              0.3333333333333333,
              "#9c179e"
             ],
             [
              0.4444444444444444,
              "#bd3786"
             ],
             [
              0.5555555555555556,
              "#d8576b"
             ],
             [
              0.6666666666666666,
              "#ed7953"
             ],
             [
              0.7777777777777778,
              "#fb9f3a"
             ],
             [
              0.8888888888888888,
              "#fdca26"
             ],
             [
              1,
              "#f0f921"
             ]
            ],
            "type": "histogram2d"
           }
          ],
          "histogram2dcontour": [
           {
            "colorbar": {
             "outlinewidth": 0,
             "ticks": ""
            },
            "colorscale": [
             [
              0,
              "#0d0887"
             ],
             [
              0.1111111111111111,
              "#46039f"
             ],
             [
              0.2222222222222222,
              "#7201a8"
             ],
             [
              0.3333333333333333,
              "#9c179e"
             ],
             [
              0.4444444444444444,
              "#bd3786"
             ],
             [
              0.5555555555555556,
              "#d8576b"
             ],
             [
              0.6666666666666666,
              "#ed7953"
             ],
             [
              0.7777777777777778,
              "#fb9f3a"
             ],
             [
              0.8888888888888888,
              "#fdca26"
             ],
             [
              1,
              "#f0f921"
             ]
            ],
            "type": "histogram2dcontour"
           }
          ],
          "mesh3d": [
           {
            "colorbar": {
             "outlinewidth": 0,
             "ticks": ""
            },
            "type": "mesh3d"
           }
          ],
          "parcoords": [
           {
            "line": {
             "colorbar": {
              "outlinewidth": 0,
              "ticks": ""
             }
            },
            "type": "parcoords"
           }
          ],
          "pie": [
           {
            "automargin": true,
            "type": "pie"
           }
          ],
          "scatter": [
           {
            "fillpattern": {
             "fillmode": "overlay",
             "size": 10,
             "solidity": 0.2
            },
            "type": "scatter"
           }
          ],
          "scatter3d": [
           {
            "line": {
             "colorbar": {
              "outlinewidth": 0,
              "ticks": ""
             }
            },
            "marker": {
             "colorbar": {
              "outlinewidth": 0,
              "ticks": ""
             }
            },
            "type": "scatter3d"
           }
          ],
          "scattercarpet": [
           {
            "marker": {
             "colorbar": {
              "outlinewidth": 0,
              "ticks": ""
             }
            },
            "type": "scattercarpet"
           }
          ],
          "scattergeo": [
           {
            "marker": {
             "colorbar": {
              "outlinewidth": 0,
              "ticks": ""
             }
            },
            "type": "scattergeo"
           }
          ],
          "scattergl": [
           {
            "marker": {
             "colorbar": {
              "outlinewidth": 0,
              "ticks": ""
             }
            },
            "type": "scattergl"
           }
          ],
          "scattermap": [
           {
            "marker": {
             "colorbar": {
              "outlinewidth": 0,
              "ticks": ""
             }
            },
            "type": "scattermap"
           }
          ],
          "scattermapbox": [
           {
            "marker": {
             "colorbar": {
              "outlinewidth": 0,
              "ticks": ""
             }
            },
            "type": "scattermapbox"
           }
          ],
          "scatterpolar": [
           {
            "marker": {
             "colorbar": {
              "outlinewidth": 0,
              "ticks": ""
             }
            },
            "type": "scatterpolar"
           }
          ],
          "scatterpolargl": [
           {
            "marker": {
             "colorbar": {
              "outlinewidth": 0,
              "ticks": ""
             }
            },
            "type": "scatterpolargl"
           }
          ],
          "scatterternary": [
           {
            "marker": {
             "colorbar": {
              "outlinewidth": 0,
              "ticks": ""
             }
            },
            "type": "scatterternary"
           }
          ],
          "surface": [
           {
            "colorbar": {
             "outlinewidth": 0,
             "ticks": ""
            },
            "colorscale": [
             [
              0,
              "#0d0887"
             ],
             [
              0.1111111111111111,
              "#46039f"
             ],
             [
              0.2222222222222222,
              "#7201a8"
             ],
             [
              0.3333333333333333,
              "#9c179e"
             ],
             [
              0.4444444444444444,
              "#bd3786"
             ],
             [
              0.5555555555555556,
              "#d8576b"
             ],
             [
              0.6666666666666666,
              "#ed7953"
             ],
             [
              0.7777777777777778,
              "#fb9f3a"
             ],
             [
              0.8888888888888888,
              "#fdca26"
             ],
             [
              1,
              "#f0f921"
             ]
            ],
            "type": "surface"
           }
          ],
          "table": [
           {
            "cells": {
             "fill": {
              "color": "#EBF0F8"
             },
             "line": {
              "color": "white"
             }
            },
            "header": {
             "fill": {
              "color": "#C8D4E3"
             },
             "line": {
              "color": "white"
             }
            },
            "type": "table"
           }
          ]
         },
         "layout": {
          "annotationdefaults": {
           "arrowcolor": "#2a3f5f",
           "arrowhead": 0,
           "arrowwidth": 1
          },
          "autotypenumbers": "strict",
          "coloraxis": {
           "colorbar": {
            "outlinewidth": 0,
            "ticks": ""
           }
          },
          "colorscale": {
           "diverging": [
            [
             0,
             "#8e0152"
            ],
            [
             0.1,
             "#c51b7d"
            ],
            [
             0.2,
             "#de77ae"
            ],
            [
             0.3,
             "#f1b6da"
            ],
            [
             0.4,
             "#fde0ef"
            ],
            [
             0.5,
             "#f7f7f7"
            ],
            [
             0.6,
             "#e6f5d0"
            ],
            [
             0.7,
             "#b8e186"
            ],
            [
             0.8,
             "#7fbc41"
            ],
            [
             0.9,
             "#4d9221"
            ],
            [
             1,
             "#276419"
            ]
           ],
           "sequential": [
            [
             0,
             "#0d0887"
            ],
            [
             0.1111111111111111,
             "#46039f"
            ],
            [
             0.2222222222222222,
             "#7201a8"
            ],
            [
             0.3333333333333333,
             "#9c179e"
            ],
            [
             0.4444444444444444,
             "#bd3786"
            ],
            [
             0.5555555555555556,
             "#d8576b"
            ],
            [
             0.6666666666666666,
             "#ed7953"
            ],
            [
             0.7777777777777778,
             "#fb9f3a"
            ],
            [
             0.8888888888888888,
             "#fdca26"
            ],
            [
             1,
             "#f0f921"
            ]
           ],
           "sequentialminus": [
            [
             0,
             "#0d0887"
            ],
            [
             0.1111111111111111,
             "#46039f"
            ],
            [
             0.2222222222222222,
             "#7201a8"
            ],
            [
             0.3333333333333333,
             "#9c179e"
            ],
            [
             0.4444444444444444,
             "#bd3786"
            ],
            [
             0.5555555555555556,
             "#d8576b"
            ],
            [
             0.6666666666666666,
             "#ed7953"
            ],
            [
             0.7777777777777778,
             "#fb9f3a"
            ],
            [
             0.8888888888888888,
             "#fdca26"
            ],
            [
             1,
             "#f0f921"
            ]
           ]
          },
          "colorway": [
           "#636efa",
           "#EF553B",
           "#00cc96",
           "#ab63fa",
           "#FFA15A",
           "#19d3f3",
           "#FF6692",
           "#B6E880",
           "#FF97FF",
           "#FECB52"
          ],
          "font": {
           "color": "#2a3f5f"
          },
          "geo": {
           "bgcolor": "white",
           "lakecolor": "white",
           "landcolor": "#E5ECF6",
           "showlakes": true,
           "showland": true,
           "subunitcolor": "white"
          },
          "hoverlabel": {
           "align": "left"
          },
          "hovermode": "closest",
          "mapbox": {
           "style": "light"
          },
          "paper_bgcolor": "white",
          "plot_bgcolor": "#E5ECF6",
          "polar": {
           "angularaxis": {
            "gridcolor": "white",
            "linecolor": "white",
            "ticks": ""
           },
           "bgcolor": "#E5ECF6",
           "radialaxis": {
            "gridcolor": "white",
            "linecolor": "white",
            "ticks": ""
           }
          },
          "scene": {
           "xaxis": {
            "backgroundcolor": "#E5ECF6",
            "gridcolor": "white",
            "gridwidth": 2,
            "linecolor": "white",
            "showbackground": true,
            "ticks": "",
            "zerolinecolor": "white"
           },
           "yaxis": {
            "backgroundcolor": "#E5ECF6",
            "gridcolor": "white",
            "gridwidth": 2,
            "linecolor": "white",
            "showbackground": true,
            "ticks": "",
            "zerolinecolor": "white"
           },
           "zaxis": {
            "backgroundcolor": "#E5ECF6",
            "gridcolor": "white",
            "gridwidth": 2,
            "linecolor": "white",
            "showbackground": true,
            "ticks": "",
            "zerolinecolor": "white"
           }
          },
          "shapedefaults": {
           "line": {
            "color": "#2a3f5f"
           }
          },
          "ternary": {
           "aaxis": {
            "gridcolor": "white",
            "linecolor": "white",
            "ticks": ""
           },
           "baxis": {
            "gridcolor": "white",
            "linecolor": "white",
            "ticks": ""
           },
           "bgcolor": "#E5ECF6",
           "caxis": {
            "gridcolor": "white",
            "linecolor": "white",
            "ticks": ""
           }
          },
          "title": {
           "x": 0.05
          },
          "xaxis": {
           "automargin": true,
           "gridcolor": "white",
           "linecolor": "white",
           "ticks": "",
           "title": {
            "standoff": 15
           },
           "zerolinecolor": "white",
           "zerolinewidth": 2
          },
          "yaxis": {
           "automargin": true,
           "gridcolor": "white",
           "linecolor": "white",
           "ticks": "",
           "title": {
            "standoff": 15
           },
           "zerolinecolor": "white",
           "zerolinewidth": 2
          }
         }
        },
        "width": 1000,
        "xaxis": {
         "anchor": "y",
         "constrain": "domain",
         "domain": [
          0,
          1
         ],
         "scaleanchor": "y"
        },
        "yaxis": {
         "anchor": "x",
         "autorange": "reversed",
         "constrain": "domain",
         "domain": [
          0,
          1
         ]
        }
       }
      }
     },
     "metadata": {},
     "output_type": "display_data"
    }
   ],
   "source": [
    "px.imshow(np.squeeze(z.data.numpy()) ,color_continuous_scale=\"blues\",width=1000,height=800)"
   ]
  },
  {
   "cell_type": "code",
   "execution_count": null,
   "metadata": {},
   "outputs": [
    {
     "name": "stdout",
     "output_type": "stream",
     "text": [
      "No module named 'sklearn'\n"
     ]
    },
    {
     "name": "stderr",
     "output_type": "stream",
     "text": [
      "/Library/Frameworks/Python.framework/Versions/3.12/lib/python3.12/site-packages/tqdm/auto.py:21: TqdmWarning:\n",
      "\n",
      "IProgress not found. Please update jupyter and ipywidgets. See https://ipywidgets.readthedocs.io/en/stable/user_install.html\n",
      "\n"
     ]
    },
    {
     "name": "stdout",
     "output_type": "stream",
     "text": [
      "q,k,v shape torch.Size([200, 8, 50, 4]) torch.Size([200, 8, 50, 4]) torch.Size([200, 8, 50, 4])\n",
      "scores shape,mask shape torch.Size([200, 8, 50, 50]) torch.Size([200, 1, 1, 50])\n",
      "p_attn.shape torch.Size([200, 8, 50, 50])\n",
      "q,k,v shape torch.Size([200, 8, 50, 4]) torch.Size([200, 8, 50, 4]) torch.Size([200, 8, 50, 4])\n",
      "scores shape,mask shape torch.Size([200, 8, 50, 50]) torch.Size([200, 1, 1, 50])\n",
      "p_attn.shape torch.Size([200, 8, 50, 50])\n",
      "q,k,v shape torch.Size([200, 8, 50, 4]) torch.Size([200, 8, 50, 4]) torch.Size([200, 8, 50, 4])\n",
      "scores shape,mask shape torch.Size([200, 8, 50, 50]) torch.Size([200, 1, 1, 50])\n",
      "p_attn.shape torch.Size([200, 8, 50, 50])\n",
      "q,k,v shape torch.Size([200, 8, 50, 4]) torch.Size([200, 8, 50, 4]) torch.Size([200, 8, 50, 4])\n",
      "scores shape,mask shape torch.Size([200, 8, 50, 50]) torch.Size([200, 1, 1, 50])\n",
      "p_attn.shape torch.Size([200, 8, 50, 50])\n",
      "q,k,v shape torch.Size([200, 8, 50, 4]) torch.Size([200, 8, 50, 4]) torch.Size([200, 8, 50, 4])\n",
      "scores shape,mask shape torch.Size([200, 8, 50, 50]) torch.Size([200, 1, 1, 50])\n",
      "p_attn.shape torch.Size([200, 8, 50, 50])\n",
      "q,k,v shape torch.Size([200, 8, 50, 4]) torch.Size([200, 8, 50, 4]) torch.Size([200, 8, 50, 4])\n",
      "scores shape,mask shape torch.Size([200, 8, 50, 50]) torch.Size([200, 1, 1, 50])\n",
      "p_attn.shape torch.Size([200, 8, 50, 50])\n",
      "--------------------------------------------------------------------------\n",
      "Layer (type)                            Output Shape              Param #\n",
      "==========================================================================\n",
      "LayerNorm-1                             [-1, 50, 32]                   64\n",
      "Linear-2                                [-1, 50, 32]                1,056\n",
      "Linear-3                                [-1, 50, 32]                1,056\n",
      "Linear-4                                [-1, 50, 32]                1,056\n",
      "Dropout-5                            [-1, 8, 50, 50]                    0\n",
      "ScaledDotProductAttention-6           [-1, 8, 50, 4]                    0\n",
      "Linear-7                                [-1, 50, 32]                1,056\n",
      "Dropout-8                               [-1, 50, 32]                    0\n",
      "LayerNorm-9                             [-1, 50, 32]                   64\n",
      "Linear-10                              [-1, 50, 128]                4,224\n",
      "Dropout-11                             [-1, 50, 128]                    0\n",
      "Linear-12                               [-1, 50, 32]                4,128\n",
      "Dropout-13                              [-1, 50, 32]                    0\n",
      "LayerNorm-14                            [-1, 50, 32]                   64\n",
      "Linear-15                               [-1, 50, 32]                1,056\n",
      "Linear-16                               [-1, 50, 32]                1,056\n",
      "Linear-17                               [-1, 50, 32]                1,056\n",
      "Dropout-18                           [-1, 8, 50, 50]                    0\n",
      "ScaledDotProductAttention-19          [-1, 8, 50, 4]                    0\n",
      "Linear-20                               [-1, 50, 32]                1,056\n",
      "Dropout-21                              [-1, 50, 32]                    0\n",
      "LayerNorm-22                            [-1, 50, 32]                   64\n",
      "Linear-23                              [-1, 50, 128]                4,224\n",
      "Dropout-24                             [-1, 50, 128]                    0\n",
      "Linear-25                               [-1, 50, 32]                4,128\n",
      "Dropout-26                              [-1, 50, 32]                    0\n",
      "LayerNorm-27                            [-1, 50, 32]                   64\n",
      "Linear-28                               [-1, 50, 32]                1,056\n",
      "Linear-29                               [-1, 50, 32]                1,056\n",
      "Linear-30                               [-1, 50, 32]                1,056\n",
      "Dropout-31                           [-1, 8, 50, 50]                    0\n",
      "ScaledDotProductAttention-32          [-1, 8, 50, 4]                    0\n",
      "Linear-33                               [-1, 50, 32]                1,056\n",
      "Dropout-34                              [-1, 50, 32]                    0\n",
      "LayerNorm-35                            [-1, 50, 32]                   64\n",
      "Linear-36                              [-1, 50, 128]                4,224\n",
      "Dropout-37                             [-1, 50, 128]                    0\n",
      "Linear-38                               [-1, 50, 32]                4,128\n",
      "Dropout-39                              [-1, 50, 32]                    0\n",
      "LayerNorm-40                            [-1, 50, 32]                   64\n",
      "==========================================================================\n",
      "Total params: 38,176\n",
      "Trainable params: 38,176\n",
      "Non-trainable params: 0\n",
      "--------------------------------------------------------------------------\n",
      "Input size (MB): 0.000000\n",
      "Forward/backward pass size (MB): 1.129150\n",
      "Params size (MB): 0.145630\n",
      "Estimated Total Size (MB): 1.274780\n",
      "--------------------------------------------------------------------------\n"
     ]
    }
   ],
   "source": [
    "class TransformerEncoderLayer(nn.Module):\n",
    "    \"TransformerEncoderLayer is made up of self-attn and feed forward (defined below)\"\n",
    "    def __init__(self, size, self_attn, feed_forward, dropout):\n",
    "        super(TransformerEncoderLayer, self).__init__()\n",
    "        self.self_attn = self_attn\n",
    "        self.feed_forward = feed_forward\n",
    "        self.res_layers = clones(ResConnection(size, dropout), 2)\n",
    "        self.size = size\n",
    "\n",
    "    def forward(self, x, mask):\n",
    "        \"Follow Figure 1 (left) for connections.\"\n",
    "        x = self.res_layers[0](x, lambda x: self.self_attn(x, x, x, mask))\n",
    "        return self.res_layers[1](x, self.feed_forward)\n",
    "    \n",
    "    \n",
    "class TransformerEncoder(nn.Module):\n",
    "    \"TransformerEncoder is a stack of N TransformerEncoderLayer\"\n",
    "    def __init__(self, layer, N):\n",
    "        super(TransformerEncoder, self).__init__()\n",
    "        self.layers = clones(layer, N)\n",
    "        self.norm = LayerNorm(layer.size)\n",
    "        \n",
    "    def forward(self, x, mask):\n",
    "        \"Pass the input (and mask) through each layer in turn.\"\n",
    "        for layer in self.layers:\n",
    "            x = layer(x, mask)\n",
    "        return self.norm(x)\n",
    "    \n",
    "    @classmethod\n",
    "    def from_config(cls,N=6,d_model=512, d_ff=2048, h=8, dropout=0.1):\n",
    "        attn = MultiHeadAttention(h, d_model)\n",
    "        ff = PositionwiseFeedForward(d_model, d_ff, dropout)\n",
    "        layer = TransformerEncoderLayer(d_model, attn, ff, dropout)\n",
    "        return cls(layer,N)\n",
    "    \n",
    "from torchkeras import summary \n",
    "\n",
    "src_embed = nn.Sequential(WordEmbedding(d_model=32, vocab = len(vocab_x)), \n",
    "                          PositionEncoding(d_model=32, dropout=0.1))\n",
    "encoder = TransformerEncoder.from_config(N=3,d_model=32, d_ff=128, h=8, dropout=0.1)\n",
    "src_mask = pad_mask()\n",
    "memory = encoder(*[src_embed(),src_mask]) \n",
    "summary(encoder,input_data_args = [src_embed(),src_mask]);\n"
   ]
  },
  {
   "cell_type": "code",
   "execution_count": 18,
   "metadata": {},
   "outputs": [
    {
     "name": "stdout",
     "output_type": "stream",
     "text": [
      "q,k,v shape torch.Size([200, 8, 50, 4]) torch.Size([200, 8, 50, 4]) torch.Size([200, 8, 50, 4])\n",
      "scores shape,mask shape torch.Size([200, 8, 50, 50]) torch.Size([200, 1, 1, 50])\n",
      "p_attn.shape torch.Size([200, 8, 50, 50])\n",
      "q,k,v shape torch.Size([200, 8, 50, 4]) torch.Size([200, 8, 50, 4]) torch.Size([200, 8, 50, 4])\n",
      "scores shape,mask shape torch.Size([200, 8, 50, 50]) torch.Size([200, 1, 1, 50])\n",
      "p_attn.shape torch.Size([200, 8, 50, 50])\n",
      "q,k,v shape torch.Size([200, 8, 50, 4]) torch.Size([200, 8, 50, 4]) torch.Size([200, 8, 50, 4])\n",
      "scores shape,mask shape torch.Size([200, 8, 50, 50]) torch.Size([200, 1, 1, 50])\n",
      "p_attn.shape torch.Size([200, 8, 50, 50])\n",
      "q,k,v shape torch.Size([200, 8, 50, 4]) torch.Size([200, 8, 50, 4]) torch.Size([200, 8, 50, 4])\n",
      "scores shape,mask shape torch.Size([200, 8, 50, 50]) torch.Size([200, 1, 50, 50])\n",
      "p_attn.shape torch.Size([200, 8, 50, 50])\n",
      "q,k,v shape torch.Size([200, 8, 50, 4]) torch.Size([200, 8, 50, 4]) torch.Size([200, 8, 50, 4])\n",
      "scores shape,mask shape torch.Size([200, 8, 50, 50]) torch.Size([200, 1, 1, 50])\n",
      "p_attn.shape torch.Size([200, 8, 50, 50])\n",
      "q,k,v shape torch.Size([200, 8, 50, 4]) torch.Size([200, 8, 50, 4]) torch.Size([200, 8, 50, 4])\n",
      "scores shape,mask shape torch.Size([200, 8, 50, 50]) torch.Size([200, 1, 50, 50])\n",
      "p_attn.shape torch.Size([200, 8, 50, 50])\n",
      "q,k,v shape torch.Size([200, 8, 50, 4]) torch.Size([200, 8, 50, 4]) torch.Size([200, 8, 50, 4])\n",
      "scores shape,mask shape torch.Size([200, 8, 50, 50]) torch.Size([200, 1, 1, 50])\n",
      "p_attn.shape torch.Size([200, 8, 50, 50])\n",
      "q,k,v shape torch.Size([200, 8, 50, 4]) torch.Size([200, 8, 50, 4]) torch.Size([200, 8, 50, 4])\n",
      "scores shape,mask shape torch.Size([200, 8, 50, 50]) torch.Size([200, 1, 50, 50])\n",
      "p_attn.shape torch.Size([200, 8, 50, 50])\n",
      "q,k,v shape torch.Size([200, 8, 50, 4]) torch.Size([200, 8, 50, 4]) torch.Size([200, 8, 50, 4])\n",
      "scores shape,mask shape torch.Size([200, 8, 50, 50]) torch.Size([200, 1, 1, 50])\n",
      "p_attn.shape torch.Size([200, 8, 50, 50])\n",
      "q,k,v shape torch.Size([200, 8, 50, 4]) torch.Size([200, 8, 50, 4]) torch.Size([200, 8, 50, 4])\n",
      "scores shape,mask shape torch.Size([200, 8, 50, 50]) torch.Size([200, 1, 50, 50])\n",
      "p_attn.shape torch.Size([200, 8, 50, 50])\n",
      "q,k,v shape torch.Size([200, 8, 50, 4]) torch.Size([200, 8, 50, 4]) torch.Size([200, 8, 50, 4])\n",
      "scores shape,mask shape torch.Size([200, 8, 50, 50]) torch.Size([200, 1, 1, 50])\n",
      "p_attn.shape torch.Size([200, 8, 50, 50])\n",
      "q,k,v shape torch.Size([200, 8, 50, 4]) torch.Size([200, 8, 50, 4]) torch.Size([200, 8, 50, 4])\n",
      "scores shape,mask shape torch.Size([200, 8, 50, 50]) torch.Size([200, 1, 50, 50])\n",
      "p_attn.shape torch.Size([200, 8, 50, 50])\n",
      "q,k,v shape torch.Size([200, 8, 50, 4]) torch.Size([200, 8, 50, 4]) torch.Size([200, 8, 50, 4])\n",
      "scores shape,mask shape torch.Size([200, 8, 50, 50]) torch.Size([200, 1, 1, 50])\n",
      "p_attn.shape torch.Size([200, 8, 50, 50])\n",
      "q,k,v shape torch.Size([200, 8, 50, 4]) torch.Size([200, 8, 50, 4]) torch.Size([200, 8, 50, 4])\n",
      "scores shape,mask shape torch.Size([200, 8, 50, 50]) torch.Size([200, 1, 50, 50])\n",
      "p_attn.shape torch.Size([200, 8, 50, 50])\n",
      "q,k,v shape torch.Size([200, 8, 50, 4]) torch.Size([200, 8, 50, 4]) torch.Size([200, 8, 50, 4])\n",
      "scores shape,mask shape torch.Size([200, 8, 50, 50]) torch.Size([200, 1, 1, 50])\n",
      "p_attn.shape torch.Size([200, 8, 50, 50])\n",
      "--------------------------------------------------------------------------\n",
      "Layer (type)                            Output Shape              Param #\n",
      "==========================================================================\n",
      "LayerNorm-1                             [-1, 50, 32]                   64\n",
      "Linear-2                                [-1, 50, 32]                1,056\n",
      "Linear-3                                [-1, 50, 32]                1,056\n",
      "Linear-4                                [-1, 50, 32]                1,056\n",
      "Dropout-5                            [-1, 8, 50, 50]                    0\n",
      "ScaledDotProductAttention-6           [-1, 8, 50, 4]                    0\n",
      "Linear-7                                [-1, 50, 32]                1,056\n",
      "Dropout-8                               [-1, 50, 32]                    0\n",
      "LayerNorm-9                             [-1, 50, 32]                   64\n",
      "Linear-10                               [-1, 50, 32]                1,056\n",
      "Linear-11                               [-1, 50, 32]                1,056\n",
      "Linear-12                               [-1, 50, 32]                1,056\n",
      "Dropout-13                           [-1, 8, 50, 50]                    0\n",
      "ScaledDotProductAttention-14          [-1, 8, 50, 4]                    0\n",
      "Linear-15                               [-1, 50, 32]                1,056\n",
      "Dropout-16                              [-1, 50, 32]                    0\n",
      "LayerNorm-17                            [-1, 50, 32]                   64\n",
      "Linear-18                              [-1, 50, 128]                4,224\n",
      "Dropout-19                             [-1, 50, 128]                    0\n",
      "Linear-20                               [-1, 50, 32]                4,128\n",
      "Dropout-21                              [-1, 50, 32]                    0\n",
      "LayerNorm-22                            [-1, 50, 32]                   64\n",
      "Linear-23                               [-1, 50, 32]                1,056\n",
      "Linear-24                               [-1, 50, 32]                1,056\n",
      "Linear-25                               [-1, 50, 32]                1,056\n",
      "Dropout-26                           [-1, 8, 50, 50]                    0\n",
      "ScaledDotProductAttention-27          [-1, 8, 50, 4]                    0\n",
      "Linear-28                               [-1, 50, 32]                1,056\n",
      "Dropout-29                              [-1, 50, 32]                    0\n",
      "LayerNorm-30                            [-1, 50, 32]                   64\n",
      "Linear-31                               [-1, 50, 32]                1,056\n",
      "Linear-32                               [-1, 50, 32]                1,056\n",
      "Linear-33                               [-1, 50, 32]                1,056\n",
      "Dropout-34                           [-1, 8, 50, 50]                    0\n",
      "ScaledDotProductAttention-35          [-1, 8, 50, 4]                    0\n",
      "Linear-36                               [-1, 50, 32]                1,056\n",
      "Dropout-37                              [-1, 50, 32]                    0\n",
      "LayerNorm-38                            [-1, 50, 32]                   64\n",
      "Linear-39                              [-1, 50, 128]                4,224\n",
      "Dropout-40                             [-1, 50, 128]                    0\n",
      "Linear-41                               [-1, 50, 32]                4,128\n",
      "Dropout-42                              [-1, 50, 32]                    0\n",
      "LayerNorm-43                            [-1, 50, 32]                   64\n",
      "Linear-44                               [-1, 50, 32]                1,056\n",
      "Linear-45                               [-1, 50, 32]                1,056\n",
      "Linear-46                               [-1, 50, 32]                1,056\n",
      "Dropout-47                           [-1, 8, 50, 50]                    0\n",
      "ScaledDotProductAttention-48          [-1, 8, 50, 4]                    0\n",
      "Linear-49                               [-1, 50, 32]                1,056\n",
      "Dropout-50                              [-1, 50, 32]                    0\n",
      "LayerNorm-51                            [-1, 50, 32]                   64\n",
      "Linear-52                               [-1, 50, 32]                1,056\n",
      "Linear-53                               [-1, 50, 32]                1,056\n",
      "Linear-54                               [-1, 50, 32]                1,056\n",
      "Dropout-55                           [-1, 8, 50, 50]                    0\n",
      "ScaledDotProductAttention-56          [-1, 8, 50, 4]                    0\n",
      "Linear-57                               [-1, 50, 32]                1,056\n",
      "Dropout-58                              [-1, 50, 32]                    0\n",
      "LayerNorm-59                            [-1, 50, 32]                   64\n",
      "Linear-60                              [-1, 50, 128]                4,224\n",
      "Dropout-61                             [-1, 50, 128]                    0\n",
      "Linear-62                               [-1, 50, 32]                4,128\n",
      "Dropout-63                              [-1, 50, 32]                    0\n",
      "LayerNorm-64                            [-1, 50, 32]                   64\n",
      "==========================================================================\n",
      "Total params: 51,040\n",
      "Trainable params: 51,040\n",
      "Non-trainable params: 0\n",
      "--------------------------------------------------------------------------\n",
      "Input size (MB): 0.000000\n",
      "Forward/backward pass size (MB): 1.843262\n",
      "Params size (MB): 0.194702\n",
      "Estimated Total Size (MB): 2.037964\n",
      "--------------------------------------------------------------------------\n",
      "q,k,v shape torch.Size([200, 8, 50, 4]) torch.Size([200, 8, 50, 4]) torch.Size([200, 8, 50, 4])\n",
      "scores shape,mask shape torch.Size([200, 8, 50, 50]) torch.Size([200, 1, 50, 50])\n",
      "p_attn.shape torch.Size([200, 8, 50, 50])\n",
      "q,k,v shape torch.Size([200, 8, 50, 4]) torch.Size([200, 8, 50, 4]) torch.Size([200, 8, 50, 4])\n",
      "scores shape,mask shape torch.Size([200, 8, 50, 50]) torch.Size([200, 1, 1, 50])\n",
      "p_attn.shape torch.Size([200, 8, 50, 50])\n",
      "q,k,v shape torch.Size([200, 8, 50, 4]) torch.Size([200, 8, 50, 4]) torch.Size([200, 8, 50, 4])\n",
      "scores shape,mask shape torch.Size([200, 8, 50, 50]) torch.Size([200, 1, 50, 50])\n",
      "p_attn.shape torch.Size([200, 8, 50, 50])\n",
      "q,k,v shape torch.Size([200, 8, 50, 4]) torch.Size([200, 8, 50, 4]) torch.Size([200, 8, 50, 4])\n",
      "scores shape,mask shape torch.Size([200, 8, 50, 50]) torch.Size([200, 1, 1, 50])\n",
      "p_attn.shape torch.Size([200, 8, 50, 50])\n",
      "q,k,v shape torch.Size([200, 8, 50, 4]) torch.Size([200, 8, 50, 4]) torch.Size([200, 8, 50, 4])\n",
      "scores shape,mask shape torch.Size([200, 8, 50, 50]) torch.Size([200, 1, 50, 50])\n",
      "p_attn.shape torch.Size([200, 8, 50, 50])\n",
      "q,k,v shape torch.Size([200, 8, 50, 4]) torch.Size([200, 8, 50, 4]) torch.Size([200, 8, 50, 4])\n",
      "scores shape,mask shape torch.Size([200, 8, 50, 50]) torch.Size([200, 1, 1, 50])\n",
      "p_attn.shape torch.Size([200, 8, 50, 50])\n",
      "tensor(3.5763e-07, grad_fn=<SumBackward0>)\n",
      "q,k,v shape torch.Size([200, 8, 50, 4]) torch.Size([200, 8, 50, 4]) torch.Size([200, 8, 50, 4])\n",
      "scores shape,mask shape torch.Size([200, 8, 50, 50]) torch.Size([200, 1, 50, 50])\n",
      "p_attn.shape torch.Size([200, 8, 50, 50])\n",
      "q,k,v shape torch.Size([200, 8, 50, 4]) torch.Size([200, 8, 50, 4]) torch.Size([200, 8, 50, 4])\n",
      "scores shape,mask shape torch.Size([200, 8, 50, 50]) torch.Size([200, 1, 1, 50])\n",
      "p_attn.shape torch.Size([200, 8, 50, 50])\n",
      "q,k,v shape torch.Size([200, 8, 50, 4]) torch.Size([200, 8, 50, 4]) torch.Size([200, 8, 50, 4])\n",
      "scores shape,mask shape torch.Size([200, 8, 50, 50]) torch.Size([200, 1, 50, 50])\n",
      "p_attn.shape torch.Size([200, 8, 50, 50])\n",
      "q,k,v shape torch.Size([200, 8, 50, 4]) torch.Size([200, 8, 50, 4]) torch.Size([200, 8, 50, 4])\n",
      "scores shape,mask shape torch.Size([200, 8, 50, 50]) torch.Size([200, 1, 1, 50])\n",
      "p_attn.shape torch.Size([200, 8, 50, 50])\n",
      "q,k,v shape torch.Size([200, 8, 50, 4]) torch.Size([200, 8, 50, 4]) torch.Size([200, 8, 50, 4])\n",
      "scores shape,mask shape torch.Size([200, 8, 50, 50]) torch.Size([200, 1, 50, 50])\n",
      "p_attn.shape torch.Size([200, 8, 50, 50])\n",
      "q,k,v shape torch.Size([200, 8, 50, 4]) torch.Size([200, 8, 50, 4]) torch.Size([200, 8, 50, 4])\n",
      "scores shape,mask shape torch.Size([200, 8, 50, 50]) torch.Size([200, 1, 1, 50])\n",
      "p_attn.shape torch.Size([200, 8, 50, 50])\n",
      "tensor(-1.1921e-07, grad_fn=<SumBackward0>)\n"
     ]
    }
   ],
   "source": [
    "class TransformerDecoderLayer(nn.Module):\n",
    "    \"TransformerDecoderLayer is made of self-attn, cross-attn, and feed forward (defined below)\"\n",
    "    def __init__(self, size, self_attn, cross_attn, feed_forward, dropout):\n",
    "        super(TransformerDecoderLayer, self).__init__()\n",
    "        self.size = size\n",
    "        self.self_attn = self_attn\n",
    "        self.cross_attn = cross_attn\n",
    "        self.feed_forward = feed_forward\n",
    "        self.res_layers = clones(ResConnection(size, dropout), 3)\n",
    " \n",
    "    def forward(self, x, memory, src_mask, tgt_mask):\n",
    "        \"Follow Figure 1 (right) for connections.\"\n",
    "        m = memory\n",
    "        x = self.res_layers[0](x, lambda x: self.self_attn(x, x, x, tgt_mask))\n",
    "        x = self.res_layers[1](x, lambda x: self.cross_attn(x, m, m, src_mask))\n",
    "        return self.res_layers[2](x, self.feed_forward)\n",
    "    \n",
    "\n",
    "class TransformerDecoder(nn.Module):\n",
    "    \"Generic N layer decoder with masking.\"\n",
    "    def __init__(self, layer, N):\n",
    "        super(TransformerDecoder, self).__init__()\n",
    "        self.layers = clones(layer, N)\n",
    "        self.norm = LayerNorm(layer.size)\n",
    "        \n",
    "    def forward(self, x, memory, src_mask, tgt_mask):\n",
    "        for layer in self.layers:\n",
    "            x = layer(x, memory, src_mask, tgt_mask)\n",
    "        return self.norm(x)\n",
    "    \n",
    "    @classmethod\n",
    "    def from_config(cls,N=6,d_model=512, d_ff=2048, h=8, dropout=0.1):\n",
    "        self_attn = MultiHeadAttention(h, d_model)\n",
    "        cross_attn = MultiHeadAttention(h, d_model)\n",
    "        ff = PositionwiseFeedForward(d_model, d_ff, dropout)\n",
    "        layer = TransformerDecoderLayer(d_model, self_attn, cross_attn, ff, dropout)\n",
    "        return cls(layer,N)\n",
    "\n",
    "\n",
    "from torchkeras import summary \n",
    "\n",
    "mbatch = MaskedBatch(src=src,tgt=tgt,pad=0)\n",
    "\n",
    "src_embed = nn.Sequential(WordEmbedding(d_model=32, vocab = len(vocab_x)), \n",
    "                          PositionEncoding(d_model=32, dropout=0.1))\n",
    "encoder = TransformerEncoder.from_config(N=3,d_model=32, d_ff=128, h=8, dropout=0.1)\n",
    "memory = encoder(src_embed(src),mbatch.src_mask) \n",
    "\n",
    "tgt_embed = nn.Sequential(WordEmbedding(d_model=32, vocab = len(vocab_y)), \n",
    "                          PositionEncoding(d_model=32, dropout=0.1))\n",
    "decoder = TransformerDecoder.from_config(N=3,d_model=32, d_ff=128, h=8, dropout=0.1)\n",
    "\n",
    "result = decoder.forward(tgt_embed(mbatch.tgt),memory,mbatch.src_mask,mbatch.tgt_mask) \n",
    "summary(decoder,input_data_args = [tgt_embed(mbatch.tgt),memory,\n",
    "                              mbatch.src_mask,mbatch.tgt_mask]);\n",
    "\n",
    "\n",
    "decoder.eval() \n",
    "mbatch.tgt[0][1]=8\n",
    "result = decoder.forward(tgt_embed(mbatch.tgt),memory,mbatch.src_mask,mbatch.tgt_mask)\n",
    "print(torch.sum(result[0][0])) \n",
    "\n",
    "mbatch.tgt[0][1]=7\n",
    "result = decoder.forward(tgt_embed(mbatch.tgt),memory,mbatch.src_mask,mbatch.tgt_mask)\n",
    "print(torch.sum(result[0][0]))"
   ]
  },
  {
   "cell_type": "code",
   "execution_count": 19,
   "metadata": {},
   "outputs": [
    {
     "name": "stdout",
     "output_type": "stream",
     "text": [
      "output_probs.shape: torch.Size([200, 50, 13])\n",
      "sum(probs)=1:\n",
      "tensor([1.0000, 1.0000, 1.0000, 1.0000, 1.0000, 1.0000, 1.0000, 1.0000, 1.0000,\n",
      "        1.0000, 1.0000, 1.0000, 1.0000, 1.0000, 1.0000, 1.0000, 1.0000, 1.0000,\n",
      "        1.0000, 1.0000, 1.0000, 1.0000, 1.0000, 1.0000, 1.0000, 1.0000, 1.0000,\n",
      "        1.0000, 1.0000, 1.0000, 1.0000, 1.0000, 1.0000, 1.0000, 1.0000, 1.0000,\n",
      "        1.0000, 1.0000, 1.0000, 1.0000, 1.0000, 1.0000, 1.0000, 1.0000, 1.0000,\n",
      "        1.0000, 1.0000, 1.0000, 1.0000, 1.0000], grad_fn=<SelectBackward0>)\n",
      "--------------------------------------------------------------------------\n",
      "Layer (type)                            Output Shape              Param #\n",
      "==========================================================================\n",
      "Linear-1                                [-1, 50, 13]                  429\n",
      "==========================================================================\n",
      "Total params: 429\n",
      "Trainable params: 429\n",
      "Non-trainable params: 0\n",
      "--------------------------------------------------------------------------\n",
      "Input size (MB): 0.000076\n",
      "Forward/backward pass size (MB): 0.004959\n",
      "Params size (MB): 0.001637\n",
      "Estimated Total Size (MB): 0.006672\n",
      "--------------------------------------------------------------------------\n"
     ]
    }
   ],
   "source": [
    "\n",
    "class Generator(nn.Module):\n",
    "    \"Define standard linear + softmax generation step.\"\n",
    "    def __init__(self, d_model, vocab):\n",
    "        super(Generator, self).__init__()\n",
    "        self.proj = nn.Linear(d_model, vocab)\n",
    "\n",
    "    def forward(self, x):\n",
    "        return F.log_softmax(self.proj(x), dim=-1)\n",
    "\n",
    "\n",
    "generator = Generator(d_model = 32, vocab = len(vocab_y)) \n",
    "log_probs  = generator(result)\n",
    "probs = torch.exp(log_probs)\n",
    "print(\"output_probs.shape:\",probs.shape)\n",
    "print(\"sum(probs)=1:\") \n",
    "print(torch.sum(probs,dim = -1)[0]) \n",
    "\n",
    "summary(generator,input_data = result);"
   ]
  },
  {
   "cell_type": "code",
   "execution_count": 20,
   "metadata": {},
   "outputs": [
    {
     "name": "stdout",
     "output_type": "stream",
     "text": [
      "q,k,v shape torch.Size([200, 8, 50, 4]) torch.Size([200, 8, 50, 4]) torch.Size([200, 8, 50, 4])\n",
      "scores shape,mask shape torch.Size([200, 8, 50, 50]) torch.Size([200, 1, 1, 50])\n",
      "p_attn.shape torch.Size([200, 8, 50, 50])\n",
      "q,k,v shape torch.Size([200, 8, 50, 4]) torch.Size([200, 8, 50, 4]) torch.Size([200, 8, 50, 4])\n",
      "scores shape,mask shape torch.Size([200, 8, 50, 50]) torch.Size([200, 1, 1, 50])\n",
      "p_attn.shape torch.Size([200, 8, 50, 50])\n",
      "q,k,v shape torch.Size([200, 8, 50, 4]) torch.Size([200, 8, 50, 4]) torch.Size([200, 8, 50, 4])\n",
      "scores shape,mask shape torch.Size([200, 8, 50, 50]) torch.Size([200, 1, 50, 50])\n",
      "p_attn.shape torch.Size([200, 8, 50, 50])\n",
      "q,k,v shape torch.Size([200, 8, 50, 4]) torch.Size([200, 8, 50, 4]) torch.Size([200, 8, 50, 4])\n",
      "scores shape,mask shape torch.Size([200, 8, 50, 50]) torch.Size([200, 1, 1, 50])\n",
      "p_attn.shape torch.Size([200, 8, 50, 50])\n",
      "q,k,v shape torch.Size([200, 8, 50, 4]) torch.Size([200, 8, 50, 4]) torch.Size([200, 8, 50, 4])\n",
      "scores shape,mask shape torch.Size([200, 8, 50, 50]) torch.Size([200, 1, 50, 50])\n",
      "p_attn.shape torch.Size([200, 8, 50, 50])\n",
      "q,k,v shape torch.Size([200, 8, 50, 4]) torch.Size([200, 8, 50, 4]) torch.Size([200, 8, 50, 4])\n",
      "scores shape,mask shape torch.Size([200, 8, 50, 50]) torch.Size([200, 1, 1, 50])\n",
      "p_attn.shape torch.Size([200, 8, 50, 50])\n",
      "--------------------------------------------------------------------------\n",
      "Layer (type)                            Output Shape              Param #\n",
      "==========================================================================\n",
      "Embedding-1                             [-1, 50, 32]                  448\n",
      "Dropout-2                               [-1, 50, 32]                    0\n",
      "LayerNorm-3                             [-1, 50, 32]                   64\n",
      "Linear-4                                [-1, 50, 32]                1,056\n",
      "Linear-5                                [-1, 50, 32]                1,056\n",
      "Linear-6                                [-1, 50, 32]                1,056\n",
      "Dropout-7                            [-1, 8, 50, 50]                    0\n",
      "ScaledDotProductAttention-8           [-1, 8, 50, 4]                    0\n",
      "Linear-9                                [-1, 50, 32]                1,056\n",
      "Dropout-10                              [-1, 50, 32]                    0\n",
      "LayerNorm-11                            [-1, 50, 32]                   64\n",
      "Linear-12                              [-1, 50, 128]                4,224\n",
      "Dropout-13                             [-1, 50, 128]                    0\n",
      "Linear-14                               [-1, 50, 32]                4,128\n",
      "Dropout-15                              [-1, 50, 32]                    0\n",
      "LayerNorm-16                            [-1, 50, 32]                   64\n",
      "Linear-17                               [-1, 50, 32]                1,056\n",
      "Linear-18                               [-1, 50, 32]                1,056\n",
      "Linear-19                               [-1, 50, 32]                1,056\n",
      "Dropout-20                           [-1, 8, 50, 50]                    0\n",
      "ScaledDotProductAttention-21          [-1, 8, 50, 4]                    0\n",
      "Linear-22                               [-1, 50, 32]                1,056\n",
      "Dropout-23                              [-1, 50, 32]                    0\n",
      "LayerNorm-24                            [-1, 50, 32]                   64\n",
      "Linear-25                              [-1, 50, 128]                4,224\n",
      "Dropout-26                             [-1, 50, 128]                    0\n",
      "Linear-27                               [-1, 50, 32]                4,128\n",
      "Dropout-28                              [-1, 50, 32]                    0\n",
      "LayerNorm-29                            [-1, 50, 32]                   64\n",
      "Embedding-30                            [-1, 50, 32]                  416\n",
      "Dropout-31                              [-1, 50, 32]                    0\n",
      "LayerNorm-32                            [-1, 50, 32]                   64\n",
      "Linear-33                               [-1, 50, 32]                1,056\n",
      "Linear-34                               [-1, 50, 32]                1,056\n",
      "Linear-35                               [-1, 50, 32]                1,056\n",
      "Dropout-36                           [-1, 8, 50, 50]                    0\n",
      "ScaledDotProductAttention-37          [-1, 8, 50, 4]                    0\n",
      "Linear-38                               [-1, 50, 32]                1,056\n",
      "Dropout-39                              [-1, 50, 32]                    0\n",
      "LayerNorm-40                            [-1, 50, 32]                   64\n",
      "Linear-41                               [-1, 50, 32]                1,056\n",
      "Linear-42                               [-1, 50, 32]                1,056\n",
      "Linear-43                               [-1, 50, 32]                1,056\n",
      "Dropout-44                           [-1, 8, 50, 50]                    0\n",
      "ScaledDotProductAttention-45          [-1, 8, 50, 4]                    0\n",
      "Linear-46                               [-1, 50, 32]                1,056\n",
      "Dropout-47                              [-1, 50, 32]                    0\n",
      "LayerNorm-48                            [-1, 50, 32]                   64\n",
      "Linear-49                              [-1, 50, 128]                4,224\n",
      "Dropout-50                             [-1, 50, 128]                    0\n",
      "Linear-51                               [-1, 50, 32]                4,128\n",
      "Dropout-52                              [-1, 50, 32]                    0\n",
      "LayerNorm-53                            [-1, 50, 32]                   64\n",
      "Linear-54                               [-1, 50, 32]                1,056\n",
      "Linear-55                               [-1, 50, 32]                1,056\n",
      "Linear-56                               [-1, 50, 32]                1,056\n",
      "Dropout-57                           [-1, 8, 50, 50]                    0\n",
      "ScaledDotProductAttention-58          [-1, 8, 50, 4]                    0\n",
      "Linear-59                               [-1, 50, 32]                1,056\n",
      "Dropout-60                              [-1, 50, 32]                    0\n",
      "LayerNorm-61                            [-1, 50, 32]                   64\n",
      "Linear-62                               [-1, 50, 32]                1,056\n",
      "Linear-63                               [-1, 50, 32]                1,056\n",
      "Linear-64                               [-1, 50, 32]                1,056\n",
      "Dropout-65                           [-1, 8, 50, 50]                    0\n",
      "ScaledDotProductAttention-66          [-1, 8, 50, 4]                    0\n",
      "Linear-67                               [-1, 50, 32]                1,056\n",
      "Dropout-68                              [-1, 50, 32]                    0\n",
      "LayerNorm-69                            [-1, 50, 32]                   64\n",
      "Linear-70                              [-1, 50, 128]                4,224\n",
      "Dropout-71                             [-1, 50, 128]                    0\n",
      "Linear-72                               [-1, 50, 32]                4,128\n",
      "Dropout-73                              [-1, 50, 32]                    0\n",
      "LayerNorm-74                            [-1, 50, 32]                   64\n",
      "Linear-75                               [-1, 50, 13]                  429\n",
      "==========================================================================\n",
      "Total params: 60,813\n",
      "Trainable params: 60,813\n",
      "Non-trainable params: 0\n",
      "--------------------------------------------------------------------------\n",
      "Input size (MB): 0.000000\n",
      "Forward/backward pass size (MB): 2.043533\n",
      "Params size (MB): 0.231983\n",
      "Estimated Total Size (MB): 2.275517\n",
      "--------------------------------------------------------------------------\n"
     ]
    }
   ],
   "source": [
    "\n",
    "from torch import nn \n",
    "class Transformer(nn.Module):\n",
    "    \"\"\"\n",
    "    A standard Encoder-Decoder architecture. Base for this and many other models.\n",
    "    \"\"\"\n",
    "    def __init__(self, encoder, decoder, src_embed, tgt_embed, generator):\n",
    "        super(Transformer, self).__init__()\n",
    "        self.encoder = encoder\n",
    "        self.decoder = decoder\n",
    "        self.src_embed = src_embed\n",
    "        self.tgt_embed = tgt_embed\n",
    "        self.generator = generator\n",
    "        self.reset_parameters()\n",
    "        \n",
    "    def forward(self, src, tgt, src_mask, tgt_mask):\n",
    "        \"Take in and process masked src and target sequences.\"\n",
    "        return self.generator(self.decode(self.encode(src, src_mask), \n",
    "                src_mask, tgt, tgt_mask))\n",
    "    \n",
    "    def encode(self, src, src_mask):\n",
    "        return self.encoder(self.src_embed(src), src_mask)\n",
    "    \n",
    "    def decode(self, memory, src_mask, tgt, tgt_mask):\n",
    "        return self.decoder(self.tgt_embed(tgt), memory, src_mask, tgt_mask)\n",
    "    \n",
    "    @classmethod\n",
    "    def from_config(cls,src_vocab,tgt_vocab,N=6,d_model=512, d_ff=2048, h=8, dropout=0.1):\n",
    "        encoder = TransformerEncoder.from_config(N=N,d_model=d_model,\n",
    "                  d_ff=d_ff, h=h, dropout=dropout)\n",
    "        decoder = TransformerDecoder.from_config(N=N,d_model=d_model,\n",
    "                  d_ff=d_ff, h=h, dropout=dropout)\n",
    "        src_embed = nn.Sequential(WordEmbedding(d_model, src_vocab), PositionEncoding(d_model, dropout))\n",
    "        tgt_embed = nn.Sequential(WordEmbedding(d_model, tgt_vocab), PositionEncoding(d_model, dropout))\n",
    "        \n",
    "        generator = Generator(d_model, tgt_vocab)\n",
    "        return cls(encoder, decoder, src_embed, tgt_embed, generator)\n",
    "    \n",
    "    def reset_parameters(self):\n",
    "        for p in self.parameters():\n",
    "            if p.dim() > 1:\n",
    "                nn.init.xavier_uniform_(p)\n",
    "    \n",
    "\n",
    "\n",
    "from torchkeras import summary \n",
    "net = Transformer.from_config(src_vocab = len(vocab_x),tgt_vocab = len(vocab_y),\n",
    "                   N=2, d_model=32, d_ff=128, h=8, dropout=0.1)\n",
    "\n",
    "mbatch = MaskedBatch(src=src,tgt=tgt,pad=0)\n",
    "\n",
    "summary(net,input_data_args = [mbatch.src,mbatch.tgt,mbatch.src_mask,mbatch.tgt_mask]);"
   ]
  }
 ],
 "metadata": {
  "kernelspec": {
   "display_name": "Python 3",
   "language": "python",
   "name": "python3"
  },
  "language_info": {
   "codemirror_mode": {
    "name": "ipython",
    "version": 3
   },
   "file_extension": ".py",
   "mimetype": "text/x-python",
   "name": "python",
   "nbconvert_exporter": "python",
   "pygments_lexer": "ipython3",
   "version": "3.12.4"
  }
 },
 "nbformat": 4,
 "nbformat_minor": 2
}
